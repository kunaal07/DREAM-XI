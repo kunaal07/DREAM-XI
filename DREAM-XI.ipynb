{
 "cells": [
  {
   "cell_type": "markdown",
   "metadata": {},
   "source": [
    "# IMPORTING IMPORTANT LIBRARIES"
   ]
  },
  {
   "cell_type": "code",
   "execution_count": 1,
   "metadata": {},
   "outputs": [],
   "source": [
    "# Load libraries\n",
    "import numpy as np\n",
    "import pandas as pd\n",
    "%matplotlib inline\n",
    "import matplotlib.pyplot as plt\n",
    "import seaborn as sns\n",
    "import pandas as pd\n",
    "\n",
    "# Import RandomForestClassifier\n",
    "from sklearn.ensemble import RandomForestClassifier\n",
    "\n",
    "# Import train_test_split function\n",
    "from sklearn.model_selection import train_test_split, GridSearchCV \n",
    "\n",
    "#Import scikit-learn metrics module for accuracy calculation\n",
    "from sklearn import metrics \n",
    "\n",
    "#Import classification_report\n",
    "from sklearn.metrics import classification_report\n",
    "from sklearn.preprocessing import LabelEncoder\n",
    "from sklearn.datasets import make_classification"
   ]
  },
  {
   "cell_type": "markdown",
   "metadata": {},
   "source": [
    "# READING MATCH.CSV"
   ]
  },
  {
   "cell_type": "code",
   "execution_count": 2,
   "metadata": {},
   "outputs": [],
   "source": [
    "df= pd.read_csv(\"Match.csv\")"
   ]
  },
  {
   "cell_type": "markdown",
   "metadata": {},
   "source": [
    "# READING PLAYER_PERFORMANCE.CSV"
   ]
  },
  {
   "cell_type": "code",
   "execution_count": 3,
   "metadata": {},
   "outputs": [],
   "source": [
    "df2= pd.read_csv(\"Player_performance.csv\")"
   ]
  },
  {
   "cell_type": "markdown",
   "metadata": {},
   "source": [
    "# MERGING MATCH.CSV AND PLAYER_PERFORMANCE.CSV BY MATCH_ID"
   ]
  },
  {
   "cell_type": "code",
   "execution_count": 4,
   "metadata": {},
   "outputs": [],
   "source": [
    "df3 = pd.merge(df,df2, how='inner', on = 'Match_id')"
   ]
  },
  {
   "cell_type": "markdown",
   "metadata": {},
   "source": [
    "# DROPPING COLUMNS THAT ARE NOT REQUIRED"
   ]
  },
  {
   "cell_type": "code",
   "execution_count": 5,
   "metadata": {},
   "outputs": [
    {
     "data": {
      "text/html": [
       "<div>\n",
       "<style scoped>\n",
       "    .dataframe tbody tr th:only-of-type {\n",
       "        vertical-align: middle;\n",
       "    }\n",
       "\n",
       "    .dataframe tbody tr th {\n",
       "        vertical-align: top;\n",
       "    }\n",
       "\n",
       "    .dataframe thead th {\n",
       "        text-align: right;\n",
       "    }\n",
       "</style>\n",
       "<table border=\"1\" class=\"dataframe\">\n",
       "  <thead>\n",
       "    <tr style=\"text-align: right;\">\n",
       "      <th></th>\n",
       "      <th>Match_id</th>\n",
       "      <th>Team1</th>\n",
       "      <th>Team2</th>\n",
       "      <th>Gender</th>\n",
       "      <th>Season</th>\n",
       "      <th>Series/Competition</th>\n",
       "      <th>Match_number</th>\n",
       "      <th>Venue</th>\n",
       "      <th>City</th>\n",
       "      <th>Toss_winner</th>\n",
       "      <th>...</th>\n",
       "      <th>Players_13</th>\n",
       "      <th>Players_14</th>\n",
       "      <th>Players_15</th>\n",
       "      <th>Players_16</th>\n",
       "      <th>Players_17</th>\n",
       "      <th>Players_18</th>\n",
       "      <th>Players_19</th>\n",
       "      <th>Players_20</th>\n",
       "      <th>Players_21</th>\n",
       "      <th>Players_22</th>\n",
       "    </tr>\n",
       "  </thead>\n",
       "  <tbody>\n",
       "    <tr>\n",
       "      <th>0</th>\n",
       "      <td>1004261</td>\n",
       "      <td>4</td>\n",
       "      <td>57</td>\n",
       "      <td>1</td>\n",
       "      <td>2016</td>\n",
       "      <td>\"ICC World Cricket League Championship</td>\n",
       "      <td>25</td>\n",
       "      <td>VRA Ground</td>\n",
       "      <td>Amstelveen</td>\n",
       "      <td>4</td>\n",
       "      <td>...</td>\n",
       "      <td>MJG Rippon</td>\n",
       "      <td>W Barresi</td>\n",
       "      <td>BN Cooper</td>\n",
       "      <td>RE van der Merwe</td>\n",
       "      <td>T van der Gugten</td>\n",
       "      <td>Mudassar Bukhari</td>\n",
       "      <td>Ahsan Malik</td>\n",
       "      <td>PA van Meekeren</td>\n",
       "      <td>-</td>\n",
       "      <td>-</td>\n",
       "    </tr>\n",
       "    <tr>\n",
       "      <th>1</th>\n",
       "      <td>1004269</td>\n",
       "      <td>5</td>\n",
       "      <td>19</td>\n",
       "      <td>1</td>\n",
       "      <td>2016</td>\n",
       "      <td>\"ICC World Cricket League Championship</td>\n",
       "      <td>32</td>\n",
       "      <td>Gymkhana Club Ground</td>\n",
       "      <td>Nairobi</td>\n",
       "      <td>5</td>\n",
       "      <td>...</td>\n",
       "      <td>AA Obanda</td>\n",
       "      <td>DM Gondaria</td>\n",
       "      <td>RR Patel</td>\n",
       "      <td>CO Obuya</td>\n",
       "      <td>NK Patel</td>\n",
       "      <td>Gurdeep Singh</td>\n",
       "      <td>NN Odhiambo</td>\n",
       "      <td>SO Ngoche</td>\n",
       "      <td>NM Odhiambo</td>\n",
       "      <td>LN Oluoch</td>\n",
       "    </tr>\n",
       "    <tr>\n",
       "      <th>2</th>\n",
       "      <td>1004285</td>\n",
       "      <td>2</td>\n",
       "      <td>19</td>\n",
       "      <td>1</td>\n",
       "      <td>2016</td>\n",
       "      <td>Hong Kong in Scotland ODI Series</td>\n",
       "      <td>2</td>\n",
       "      <td>\"Grange Cricket Club Ground</td>\n",
       "      <td>Edinburgh</td>\n",
       "      <td>2</td>\n",
       "      <td>...</td>\n",
       "      <td>Aizaz Khan</td>\n",
       "      <td>Babar Hayat</td>\n",
       "      <td>Nizakat Khan</td>\n",
       "      <td>Anshuman Rath</td>\n",
       "      <td>Ehsan Khan</td>\n",
       "      <td>Shahid Wasif</td>\n",
       "      <td>Waqas Khan</td>\n",
       "      <td>Tanwir Afzal</td>\n",
       "      <td>Nadeem Ahmed</td>\n",
       "      <td>Tanveer Ahmed</td>\n",
       "    </tr>\n",
       "    <tr>\n",
       "      <th>3</th>\n",
       "      <td>1007649</td>\n",
       "      <td>6</td>\n",
       "      <td>10</td>\n",
       "      <td>1</td>\n",
       "      <td>2016</td>\n",
       "      <td>India in Zimbabwe ODI Series</td>\n",
       "      <td>1</td>\n",
       "      <td>Harare Sports Club</td>\n",
       "      <td>Neutral</td>\n",
       "      <td>10</td>\n",
       "      <td>...</td>\n",
       "      <td>KK Nair</td>\n",
       "      <td>AT Rayudu</td>\n",
       "      <td>DS Kulkarni</td>\n",
       "      <td>BB Sran</td>\n",
       "      <td>JJ Bumrah</td>\n",
       "      <td>AR Patel</td>\n",
       "      <td>YS Chahal</td>\n",
       "      <td>-</td>\n",
       "      <td>-</td>\n",
       "      <td>-</td>\n",
       "    </tr>\n",
       "    <tr>\n",
       "      <th>4</th>\n",
       "      <td>1007651</td>\n",
       "      <td>6</td>\n",
       "      <td>10</td>\n",
       "      <td>1</td>\n",
       "      <td>2016</td>\n",
       "      <td>India in Zimbabwe ODI Series</td>\n",
       "      <td>2</td>\n",
       "      <td>Harare Sports Club</td>\n",
       "      <td>Neutral</td>\n",
       "      <td>10</td>\n",
       "      <td>...</td>\n",
       "      <td>KK Nair</td>\n",
       "      <td>AT Rayudu</td>\n",
       "      <td>MK Pandey</td>\n",
       "      <td>BB Sran</td>\n",
       "      <td>DS Kulkarni</td>\n",
       "      <td>JJ Bumrah</td>\n",
       "      <td>AR Patel</td>\n",
       "      <td>YS Chahal</td>\n",
       "      <td>-</td>\n",
       "      <td>-</td>\n",
       "    </tr>\n",
       "    <tr>\n",
       "      <th>...</th>\n",
       "      <td>...</td>\n",
       "      <td>...</td>\n",
       "      <td>...</td>\n",
       "      <td>...</td>\n",
       "      <td>...</td>\n",
       "      <td>...</td>\n",
       "      <td>...</td>\n",
       "      <td>...</td>\n",
       "      <td>...</td>\n",
       "      <td>...</td>\n",
       "      <td>...</td>\n",
       "      <td>...</td>\n",
       "      <td>...</td>\n",
       "      <td>...</td>\n",
       "      <td>...</td>\n",
       "      <td>...</td>\n",
       "      <td>...</td>\n",
       "      <td>...</td>\n",
       "      <td>...</td>\n",
       "      <td>...</td>\n",
       "      <td>...</td>\n",
       "    </tr>\n",
       "    <tr>\n",
       "      <th>1865</th>\n",
       "      <td>997961</td>\n",
       "      <td>24</td>\n",
       "      <td>25</td>\n",
       "      <td>1</td>\n",
       "      <td>2016</td>\n",
       "      <td>Afghanistan in Ireland ODI Series</td>\n",
       "      <td>2</td>\n",
       "      <td>\"Civil Service Cricket Club</td>\n",
       "      <td>Belfast</td>\n",
       "      <td>24</td>\n",
       "      <td>...</td>\n",
       "      <td>EC Joyce</td>\n",
       "      <td>J Anderson</td>\n",
       "      <td>SW Poynter</td>\n",
       "      <td>KJ O'Brien</td>\n",
       "      <td>PR Stirling</td>\n",
       "      <td>AR McBrine</td>\n",
       "      <td>GH Dockrell</td>\n",
       "      <td>BJ McCarthy</td>\n",
       "      <td>TJ Murtagh</td>\n",
       "      <td>PKD Chase</td>\n",
       "    </tr>\n",
       "    <tr>\n",
       "      <th>1866</th>\n",
       "      <td>997965</td>\n",
       "      <td>24</td>\n",
       "      <td>25</td>\n",
       "      <td>1</td>\n",
       "      <td>2016</td>\n",
       "      <td>Afghanistan in Ireland ODI Series</td>\n",
       "      <td>4</td>\n",
       "      <td>\"Civil Service Cricket Club</td>\n",
       "      <td>Belfast</td>\n",
       "      <td>25</td>\n",
       "      <td>...</td>\n",
       "      <td>EC Joyce</td>\n",
       "      <td>SP Terry</td>\n",
       "      <td>SW Poynter</td>\n",
       "      <td>KJ O'Brien</td>\n",
       "      <td>PR Stirling</td>\n",
       "      <td>GC Wilson</td>\n",
       "      <td>AR McBrine</td>\n",
       "      <td>BJ McCarthy</td>\n",
       "      <td>TJ Murtagh</td>\n",
       "      <td>PKD Chase</td>\n",
       "    </tr>\n",
       "    <tr>\n",
       "      <th>1867</th>\n",
       "      <td>997967</td>\n",
       "      <td>24</td>\n",
       "      <td>25</td>\n",
       "      <td>1</td>\n",
       "      <td>2016</td>\n",
       "      <td>Afghanistan in Ireland ODI Series</td>\n",
       "      <td>5</td>\n",
       "      <td>\"Civil Service Cricket Club</td>\n",
       "      <td>Belfast</td>\n",
       "      <td>25</td>\n",
       "      <td>...</td>\n",
       "      <td>Javed Ahmadi</td>\n",
       "      <td>Rahmat Shah</td>\n",
       "      <td>Gulbadin Naib</td>\n",
       "      <td>Asghar Stanikzai</td>\n",
       "      <td>Mohammad Nabi</td>\n",
       "      <td>Najibullah Zadran</td>\n",
       "      <td>Rashid Khan</td>\n",
       "      <td>Mirwais Ashraf</td>\n",
       "      <td>Dawlat Zadran</td>\n",
       "      <td>Yamin Ahmadzai</td>\n",
       "    </tr>\n",
       "    <tr>\n",
       "      <th>1868</th>\n",
       "      <td>997993</td>\n",
       "      <td>2</td>\n",
       "      <td>33</td>\n",
       "      <td>1</td>\n",
       "      <td>2016</td>\n",
       "      <td>\"ICC World Cricket League Championship</td>\n",
       "      <td>26</td>\n",
       "      <td>\"Grange Cricket Club Ground</td>\n",
       "      <td>Edinburgh</td>\n",
       "      <td>33</td>\n",
       "      <td>...</td>\n",
       "      <td>L Sreekumar</td>\n",
       "      <td>Mohammad Shahzad (2)</td>\n",
       "      <td>Shaiman Anwar</td>\n",
       "      <td>Muhammad Usman</td>\n",
       "      <td>Rameez Shahzad</td>\n",
       "      <td>Mohammad Naveed</td>\n",
       "      <td>Krishna Chandran</td>\n",
       "      <td>Amjad Javed</td>\n",
       "      <td>Saqlain Haider</td>\n",
       "      <td>Ahmed Raza</td>\n",
       "    </tr>\n",
       "    <tr>\n",
       "      <th>1869</th>\n",
       "      <td>997995</td>\n",
       "      <td>2</td>\n",
       "      <td>33</td>\n",
       "      <td>1</td>\n",
       "      <td>2016</td>\n",
       "      <td>\"ICC World Cricket League Championship</td>\n",
       "      <td>28</td>\n",
       "      <td>\"Grange Cricket Club Ground</td>\n",
       "      <td>Edinburgh</td>\n",
       "      <td>33</td>\n",
       "      <td>...</td>\n",
       "      <td>CD Wallace</td>\n",
       "      <td>CS MacLeod</td>\n",
       "      <td>PL Mommsen</td>\n",
       "      <td>RD Berrington</td>\n",
       "      <td>AC Evans</td>\n",
       "      <td>SM Sharif</td>\n",
       "      <td>CB Sole</td>\n",
       "      <td>CD de Lange</td>\n",
       "      <td>MA Leask</td>\n",
       "      <td>-</td>\n",
       "    </tr>\n",
       "  </tbody>\n",
       "</table>\n",
       "<p>1870 rows × 35 columns</p>\n",
       "</div>"
      ],
      "text/plain": [
       "      Match_id  Team1  Team2  Gender  Season  \\\n",
       "0      1004261      4     57       1    2016   \n",
       "1      1004269      5     19       1    2016   \n",
       "2      1004285      2     19       1    2016   \n",
       "3      1007649      6     10       1    2016   \n",
       "4      1007651      6     10       1    2016   \n",
       "...        ...    ...    ...     ...     ...   \n",
       "1865    997961     24     25       1    2016   \n",
       "1866    997965     24     25       1    2016   \n",
       "1867    997967     24     25       1    2016   \n",
       "1868    997993      2     33       1    2016   \n",
       "1869    997995      2     33       1    2016   \n",
       "\n",
       "                          Series/Competition  Match_number  \\\n",
       "0     \"ICC World Cricket League Championship            25   \n",
       "1     \"ICC World Cricket League Championship            32   \n",
       "2           Hong Kong in Scotland ODI Series             2   \n",
       "3               India in Zimbabwe ODI Series             1   \n",
       "4               India in Zimbabwe ODI Series             2   \n",
       "...                                      ...           ...   \n",
       "1865       Afghanistan in Ireland ODI Series             2   \n",
       "1866       Afghanistan in Ireland ODI Series             4   \n",
       "1867       Afghanistan in Ireland ODI Series             5   \n",
       "1868  \"ICC World Cricket League Championship            26   \n",
       "1869  \"ICC World Cricket League Championship            28   \n",
       "\n",
       "                            Venue        City  Toss_winner  ...    Players_13  \\\n",
       "0                      VRA Ground  Amstelveen            4  ...    MJG Rippon   \n",
       "1            Gymkhana Club Ground     Nairobi            5  ...     AA Obanda   \n",
       "2     \"Grange Cricket Club Ground   Edinburgh            2  ...    Aizaz Khan   \n",
       "3              Harare Sports Club     Neutral           10  ...       KK Nair   \n",
       "4              Harare Sports Club     Neutral           10  ...       KK Nair   \n",
       "...                           ...         ...          ...  ...           ...   \n",
       "1865  \"Civil Service Cricket Club     Belfast           24  ...      EC Joyce   \n",
       "1866  \"Civil Service Cricket Club     Belfast           25  ...      EC Joyce   \n",
       "1867  \"Civil Service Cricket Club     Belfast           25  ...  Javed Ahmadi   \n",
       "1868  \"Grange Cricket Club Ground   Edinburgh           33  ...   L Sreekumar   \n",
       "1869  \"Grange Cricket Club Ground   Edinburgh           33  ...    CD Wallace   \n",
       "\n",
       "                Players_14     Players_15        Players_16        Players_17  \\\n",
       "0                W Barresi      BN Cooper  RE van der Merwe  T van der Gugten   \n",
       "1              DM Gondaria       RR Patel          CO Obuya          NK Patel   \n",
       "2              Babar Hayat   Nizakat Khan     Anshuman Rath        Ehsan Khan   \n",
       "3                AT Rayudu    DS Kulkarni           BB Sran         JJ Bumrah   \n",
       "4                AT Rayudu      MK Pandey           BB Sran       DS Kulkarni   \n",
       "...                    ...            ...               ...               ...   \n",
       "1865            J Anderson     SW Poynter        KJ O'Brien       PR Stirling   \n",
       "1866              SP Terry     SW Poynter        KJ O'Brien       PR Stirling   \n",
       "1867           Rahmat Shah  Gulbadin Naib  Asghar Stanikzai     Mohammad Nabi   \n",
       "1868  Mohammad Shahzad (2)  Shaiman Anwar    Muhammad Usman    Rameez Shahzad   \n",
       "1869            CS MacLeod     PL Mommsen     RD Berrington          AC Evans   \n",
       "\n",
       "             Players_18        Players_19       Players_20      Players_21  \\\n",
       "0      Mudassar Bukhari       Ahsan Malik  PA van Meekeren               -   \n",
       "1         Gurdeep Singh       NN Odhiambo        SO Ngoche     NM Odhiambo   \n",
       "2          Shahid Wasif        Waqas Khan     Tanwir Afzal    Nadeem Ahmed   \n",
       "3              AR Patel         YS Chahal                -               -   \n",
       "4             JJ Bumrah          AR Patel        YS Chahal               -   \n",
       "...                 ...               ...              ...             ...   \n",
       "1865         AR McBrine       GH Dockrell      BJ McCarthy      TJ Murtagh   \n",
       "1866          GC Wilson        AR McBrine      BJ McCarthy      TJ Murtagh   \n",
       "1867  Najibullah Zadran       Rashid Khan   Mirwais Ashraf   Dawlat Zadran   \n",
       "1868    Mohammad Naveed  Krishna Chandran      Amjad Javed  Saqlain Haider   \n",
       "1869          SM Sharif           CB Sole      CD de Lange        MA Leask   \n",
       "\n",
       "          Players_22  \n",
       "0                  -  \n",
       "1          LN Oluoch  \n",
       "2      Tanveer Ahmed  \n",
       "3                  -  \n",
       "4                  -  \n",
       "...              ...  \n",
       "1865       PKD Chase  \n",
       "1866       PKD Chase  \n",
       "1867  Yamin Ahmadzai  \n",
       "1868      Ahmed Raza  \n",
       "1869               -  \n",
       "\n",
       "[1870 rows x 35 columns]"
      ]
     },
     "execution_count": 5,
     "metadata": {},
     "output_type": "execute_result"
    }
   ],
   "source": [
    "df3.drop(['Unnamed: 0','Date','Umpire1','Umpire2',\n",
    "          'Reserve_umpire','Tv_umpire','Match_referee','Neutral_venue',\n",
    "          'Method','Outcome','Winner_runs','Winner_wickets'], axis = 1)"
   ]
  },
  {
   "cell_type": "markdown",
   "metadata": {},
   "source": [
    "# CHECKING NULL VALUES (IF ANY) IN TEAM1 COLUMN"
   ]
  },
  {
   "cell_type": "code",
   "execution_count": 6,
   "metadata": {},
   "outputs": [
    {
     "data": {
      "text/html": [
       "<div>\n",
       "<style scoped>\n",
       "    .dataframe tbody tr th:only-of-type {\n",
       "        vertical-align: middle;\n",
       "    }\n",
       "\n",
       "    .dataframe tbody tr th {\n",
       "        vertical-align: top;\n",
       "    }\n",
       "\n",
       "    .dataframe thead th {\n",
       "        text-align: right;\n",
       "    }\n",
       "</style>\n",
       "<table border=\"1\" class=\"dataframe\">\n",
       "  <thead>\n",
       "    <tr style=\"text-align: right;\">\n",
       "      <th></th>\n",
       "      <th>Unnamed: 0</th>\n",
       "      <th>Match_id</th>\n",
       "      <th>Team1</th>\n",
       "      <th>Team2</th>\n",
       "      <th>Gender</th>\n",
       "      <th>Date</th>\n",
       "      <th>Season</th>\n",
       "      <th>Series/Competition</th>\n",
       "      <th>Match_number</th>\n",
       "      <th>Venue</th>\n",
       "      <th>...</th>\n",
       "      <th>Players_13</th>\n",
       "      <th>Players_14</th>\n",
       "      <th>Players_15</th>\n",
       "      <th>Players_16</th>\n",
       "      <th>Players_17</th>\n",
       "      <th>Players_18</th>\n",
       "      <th>Players_19</th>\n",
       "      <th>Players_20</th>\n",
       "      <th>Players_21</th>\n",
       "      <th>Players_22</th>\n",
       "    </tr>\n",
       "  </thead>\n",
       "  <tbody>\n",
       "  </tbody>\n",
       "</table>\n",
       "<p>0 rows × 47 columns</p>\n",
       "</div>"
      ],
      "text/plain": [
       "Empty DataFrame\n",
       "Columns: [Unnamed: 0, Match_id, Team1, Team2, Gender, Date, Season, Series/Competition, Match_number, Venue, City, Neutral_venue, Toss_winner, Toss_decision, Player_of_match, Umpire1, Umpire2, Reserve_umpire, Tv_umpire, Match_referee, Winner, Winner_runs, Winner_wickets, Method, Outcome, Players_1, Players_2, Players_3, Players_4, Players_5, Players_6, Players_7, Players_8, Players_9, Players_10, Players_11, Players_12, Players_13, Players_14, Players_15, Players_16, Players_17, Players_18, Players_19, Players_20, Players_21, Players_22]\n",
       "Index: []\n",
       "\n",
       "[0 rows x 47 columns]"
      ]
     },
     "execution_count": 6,
     "metadata": {},
     "output_type": "execute_result"
    }
   ],
   "source": [
    "#find all NaN values in winner column, so that we update this as draw\n",
    "df3[pd.isnull(df3['Team1'])]"
   ]
  },
  {
   "cell_type": "markdown",
   "metadata": {},
   "source": [
    "# CHECKING NULL VALUES (IF ANY) IN TEAM2 COLUMN"
   ]
  },
  {
   "cell_type": "code",
   "execution_count": 7,
   "metadata": {},
   "outputs": [
    {
     "data": {
      "text/html": [
       "<div>\n",
       "<style scoped>\n",
       "    .dataframe tbody tr th:only-of-type {\n",
       "        vertical-align: middle;\n",
       "    }\n",
       "\n",
       "    .dataframe tbody tr th {\n",
       "        vertical-align: top;\n",
       "    }\n",
       "\n",
       "    .dataframe thead th {\n",
       "        text-align: right;\n",
       "    }\n",
       "</style>\n",
       "<table border=\"1\" class=\"dataframe\">\n",
       "  <thead>\n",
       "    <tr style=\"text-align: right;\">\n",
       "      <th></th>\n",
       "      <th>Unnamed: 0</th>\n",
       "      <th>Match_id</th>\n",
       "      <th>Team1</th>\n",
       "      <th>Team2</th>\n",
       "      <th>Gender</th>\n",
       "      <th>Date</th>\n",
       "      <th>Season</th>\n",
       "      <th>Series/Competition</th>\n",
       "      <th>Match_number</th>\n",
       "      <th>Venue</th>\n",
       "      <th>...</th>\n",
       "      <th>Players_13</th>\n",
       "      <th>Players_14</th>\n",
       "      <th>Players_15</th>\n",
       "      <th>Players_16</th>\n",
       "      <th>Players_17</th>\n",
       "      <th>Players_18</th>\n",
       "      <th>Players_19</th>\n",
       "      <th>Players_20</th>\n",
       "      <th>Players_21</th>\n",
       "      <th>Players_22</th>\n",
       "    </tr>\n",
       "  </thead>\n",
       "  <tbody>\n",
       "  </tbody>\n",
       "</table>\n",
       "<p>0 rows × 47 columns</p>\n",
       "</div>"
      ],
      "text/plain": [
       "Empty DataFrame\n",
       "Columns: [Unnamed: 0, Match_id, Team1, Team2, Gender, Date, Season, Series/Competition, Match_number, Venue, City, Neutral_venue, Toss_winner, Toss_decision, Player_of_match, Umpire1, Umpire2, Reserve_umpire, Tv_umpire, Match_referee, Winner, Winner_runs, Winner_wickets, Method, Outcome, Players_1, Players_2, Players_3, Players_4, Players_5, Players_6, Players_7, Players_8, Players_9, Players_10, Players_11, Players_12, Players_13, Players_14, Players_15, Players_16, Players_17, Players_18, Players_19, Players_20, Players_21, Players_22]\n",
       "Index: []\n",
       "\n",
       "[0 rows x 47 columns]"
      ]
     },
     "execution_count": 7,
     "metadata": {},
     "output_type": "execute_result"
    }
   ],
   "source": [
    "#find all NaN values in winner column, so that we update this as draw\n",
    "df3[pd.isnull(df3['Team2'])]"
   ]
  },
  {
   "cell_type": "markdown",
   "metadata": {},
   "source": [
    "# CHECKING NULL VALUES (IF ANY) IN TOSS_WINNER COLUMN"
   ]
  },
  {
   "cell_type": "code",
   "execution_count": 8,
   "metadata": {},
   "outputs": [
    {
     "data": {
      "text/html": [
       "<div>\n",
       "<style scoped>\n",
       "    .dataframe tbody tr th:only-of-type {\n",
       "        vertical-align: middle;\n",
       "    }\n",
       "\n",
       "    .dataframe tbody tr th {\n",
       "        vertical-align: top;\n",
       "    }\n",
       "\n",
       "    .dataframe thead th {\n",
       "        text-align: right;\n",
       "    }\n",
       "</style>\n",
       "<table border=\"1\" class=\"dataframe\">\n",
       "  <thead>\n",
       "    <tr style=\"text-align: right;\">\n",
       "      <th></th>\n",
       "      <th>Unnamed: 0</th>\n",
       "      <th>Match_id</th>\n",
       "      <th>Team1</th>\n",
       "      <th>Team2</th>\n",
       "      <th>Gender</th>\n",
       "      <th>Date</th>\n",
       "      <th>Season</th>\n",
       "      <th>Series/Competition</th>\n",
       "      <th>Match_number</th>\n",
       "      <th>Venue</th>\n",
       "      <th>...</th>\n",
       "      <th>Players_13</th>\n",
       "      <th>Players_14</th>\n",
       "      <th>Players_15</th>\n",
       "      <th>Players_16</th>\n",
       "      <th>Players_17</th>\n",
       "      <th>Players_18</th>\n",
       "      <th>Players_19</th>\n",
       "      <th>Players_20</th>\n",
       "      <th>Players_21</th>\n",
       "      <th>Players_22</th>\n",
       "    </tr>\n",
       "  </thead>\n",
       "  <tbody>\n",
       "  </tbody>\n",
       "</table>\n",
       "<p>0 rows × 47 columns</p>\n",
       "</div>"
      ],
      "text/plain": [
       "Empty DataFrame\n",
       "Columns: [Unnamed: 0, Match_id, Team1, Team2, Gender, Date, Season, Series/Competition, Match_number, Venue, City, Neutral_venue, Toss_winner, Toss_decision, Player_of_match, Umpire1, Umpire2, Reserve_umpire, Tv_umpire, Match_referee, Winner, Winner_runs, Winner_wickets, Method, Outcome, Players_1, Players_2, Players_3, Players_4, Players_5, Players_6, Players_7, Players_8, Players_9, Players_10, Players_11, Players_12, Players_13, Players_14, Players_15, Players_16, Players_17, Players_18, Players_19, Players_20, Players_21, Players_22]\n",
       "Index: []\n",
       "\n",
       "[0 rows x 47 columns]"
      ]
     },
     "execution_count": 8,
     "metadata": {},
     "output_type": "execute_result"
    }
   ],
   "source": [
    "#find all NaN values in winner column, so that we update this as draw\n",
    "df3[pd.isnull(df3['Toss_winner'])]"
   ]
  },
  {
   "cell_type": "markdown",
   "metadata": {},
   "source": [
    "# CHECKING NULL VALUES (IF ANY) IN CITY COLUMN"
   ]
  },
  {
   "cell_type": "code",
   "execution_count": 9,
   "metadata": {},
   "outputs": [
    {
     "data": {
      "text/html": [
       "<div>\n",
       "<style scoped>\n",
       "    .dataframe tbody tr th:only-of-type {\n",
       "        vertical-align: middle;\n",
       "    }\n",
       "\n",
       "    .dataframe tbody tr th {\n",
       "        vertical-align: top;\n",
       "    }\n",
       "\n",
       "    .dataframe thead th {\n",
       "        text-align: right;\n",
       "    }\n",
       "</style>\n",
       "<table border=\"1\" class=\"dataframe\">\n",
       "  <thead>\n",
       "    <tr style=\"text-align: right;\">\n",
       "      <th></th>\n",
       "      <th>Unnamed: 0</th>\n",
       "      <th>Match_id</th>\n",
       "      <th>Team1</th>\n",
       "      <th>Team2</th>\n",
       "      <th>Gender</th>\n",
       "      <th>Date</th>\n",
       "      <th>Season</th>\n",
       "      <th>Series/Competition</th>\n",
       "      <th>Match_number</th>\n",
       "      <th>Venue</th>\n",
       "      <th>...</th>\n",
       "      <th>Players_13</th>\n",
       "      <th>Players_14</th>\n",
       "      <th>Players_15</th>\n",
       "      <th>Players_16</th>\n",
       "      <th>Players_17</th>\n",
       "      <th>Players_18</th>\n",
       "      <th>Players_19</th>\n",
       "      <th>Players_20</th>\n",
       "      <th>Players_21</th>\n",
       "      <th>Players_22</th>\n",
       "    </tr>\n",
       "  </thead>\n",
       "  <tbody>\n",
       "  </tbody>\n",
       "</table>\n",
       "<p>0 rows × 47 columns</p>\n",
       "</div>"
      ],
      "text/plain": [
       "Empty DataFrame\n",
       "Columns: [Unnamed: 0, Match_id, Team1, Team2, Gender, Date, Season, Series/Competition, Match_number, Venue, City, Neutral_venue, Toss_winner, Toss_decision, Player_of_match, Umpire1, Umpire2, Reserve_umpire, Tv_umpire, Match_referee, Winner, Winner_runs, Winner_wickets, Method, Outcome, Players_1, Players_2, Players_3, Players_4, Players_5, Players_6, Players_7, Players_8, Players_9, Players_10, Players_11, Players_12, Players_13, Players_14, Players_15, Players_16, Players_17, Players_18, Players_19, Players_20, Players_21, Players_22]\n",
       "Index: []\n",
       "\n",
       "[0 rows x 47 columns]"
      ]
     },
     "execution_count": 9,
     "metadata": {},
     "output_type": "execute_result"
    }
   ],
   "source": [
    "#find all NaN values in winner column, so that we update this as draw\n",
    "df3[pd.isnull(df3['City'])]"
   ]
  },
  {
   "cell_type": "markdown",
   "metadata": {},
   "source": [
    "# CHECKING NULL VALUES (IF ANY) IN VENUE COLUMN"
   ]
  },
  {
   "cell_type": "code",
   "execution_count": 10,
   "metadata": {},
   "outputs": [
    {
     "data": {
      "text/html": [
       "<div>\n",
       "<style scoped>\n",
       "    .dataframe tbody tr th:only-of-type {\n",
       "        vertical-align: middle;\n",
       "    }\n",
       "\n",
       "    .dataframe tbody tr th {\n",
       "        vertical-align: top;\n",
       "    }\n",
       "\n",
       "    .dataframe thead th {\n",
       "        text-align: right;\n",
       "    }\n",
       "</style>\n",
       "<table border=\"1\" class=\"dataframe\">\n",
       "  <thead>\n",
       "    <tr style=\"text-align: right;\">\n",
       "      <th></th>\n",
       "      <th>Unnamed: 0</th>\n",
       "      <th>Match_id</th>\n",
       "      <th>Team1</th>\n",
       "      <th>Team2</th>\n",
       "      <th>Gender</th>\n",
       "      <th>Date</th>\n",
       "      <th>Season</th>\n",
       "      <th>Series/Competition</th>\n",
       "      <th>Match_number</th>\n",
       "      <th>Venue</th>\n",
       "      <th>...</th>\n",
       "      <th>Players_13</th>\n",
       "      <th>Players_14</th>\n",
       "      <th>Players_15</th>\n",
       "      <th>Players_16</th>\n",
       "      <th>Players_17</th>\n",
       "      <th>Players_18</th>\n",
       "      <th>Players_19</th>\n",
       "      <th>Players_20</th>\n",
       "      <th>Players_21</th>\n",
       "      <th>Players_22</th>\n",
       "    </tr>\n",
       "  </thead>\n",
       "  <tbody>\n",
       "  </tbody>\n",
       "</table>\n",
       "<p>0 rows × 47 columns</p>\n",
       "</div>"
      ],
      "text/plain": [
       "Empty DataFrame\n",
       "Columns: [Unnamed: 0, Match_id, Team1, Team2, Gender, Date, Season, Series/Competition, Match_number, Venue, City, Neutral_venue, Toss_winner, Toss_decision, Player_of_match, Umpire1, Umpire2, Reserve_umpire, Tv_umpire, Match_referee, Winner, Winner_runs, Winner_wickets, Method, Outcome, Players_1, Players_2, Players_3, Players_4, Players_5, Players_6, Players_7, Players_8, Players_9, Players_10, Players_11, Players_12, Players_13, Players_14, Players_15, Players_16, Players_17, Players_18, Players_19, Players_20, Players_21, Players_22]\n",
       "Index: []\n",
       "\n",
       "[0 rows x 47 columns]"
      ]
     },
     "execution_count": 10,
     "metadata": {},
     "output_type": "execute_result"
    }
   ],
   "source": [
    "#find all NaN values in winner column, so that we update this as draw\n",
    "df3[pd.isnull(df3['Venue'])]"
   ]
  },
  {
   "cell_type": "markdown",
   "metadata": {},
   "source": [
    "# CHECKING NULL VALUES (IF ANY) IN WINNER COLUMN"
   ]
  },
  {
   "cell_type": "code",
   "execution_count": 11,
   "metadata": {},
   "outputs": [
    {
     "data": {
      "text/html": [
       "<div>\n",
       "<style scoped>\n",
       "    .dataframe tbody tr th:only-of-type {\n",
       "        vertical-align: middle;\n",
       "    }\n",
       "\n",
       "    .dataframe tbody tr th {\n",
       "        vertical-align: top;\n",
       "    }\n",
       "\n",
       "    .dataframe thead th {\n",
       "        text-align: right;\n",
       "    }\n",
       "</style>\n",
       "<table border=\"1\" class=\"dataframe\">\n",
       "  <thead>\n",
       "    <tr style=\"text-align: right;\">\n",
       "      <th></th>\n",
       "      <th>Unnamed: 0</th>\n",
       "      <th>Match_id</th>\n",
       "      <th>Team1</th>\n",
       "      <th>Team2</th>\n",
       "      <th>Gender</th>\n",
       "      <th>Date</th>\n",
       "      <th>Season</th>\n",
       "      <th>Series/Competition</th>\n",
       "      <th>Match_number</th>\n",
       "      <th>Venue</th>\n",
       "      <th>...</th>\n",
       "      <th>Players_13</th>\n",
       "      <th>Players_14</th>\n",
       "      <th>Players_15</th>\n",
       "      <th>Players_16</th>\n",
       "      <th>Players_17</th>\n",
       "      <th>Players_18</th>\n",
       "      <th>Players_19</th>\n",
       "      <th>Players_20</th>\n",
       "      <th>Players_21</th>\n",
       "      <th>Players_22</th>\n",
       "    </tr>\n",
       "  </thead>\n",
       "  <tbody>\n",
       "  </tbody>\n",
       "</table>\n",
       "<p>0 rows × 47 columns</p>\n",
       "</div>"
      ],
      "text/plain": [
       "Empty DataFrame\n",
       "Columns: [Unnamed: 0, Match_id, Team1, Team2, Gender, Date, Season, Series/Competition, Match_number, Venue, City, Neutral_venue, Toss_winner, Toss_decision, Player_of_match, Umpire1, Umpire2, Reserve_umpire, Tv_umpire, Match_referee, Winner, Winner_runs, Winner_wickets, Method, Outcome, Players_1, Players_2, Players_3, Players_4, Players_5, Players_6, Players_7, Players_8, Players_9, Players_10, Players_11, Players_12, Players_13, Players_14, Players_15, Players_16, Players_17, Players_18, Players_19, Players_20, Players_21, Players_22]\n",
       "Index: []\n",
       "\n",
       "[0 rows x 47 columns]"
      ]
     },
     "execution_count": 11,
     "metadata": {},
     "output_type": "execute_result"
    }
   ],
   "source": [
    "#find all NaN values in winner column, so that we update this as draw\n",
    "df3[pd.isnull(df3['Winner'])]"
   ]
  },
  {
   "cell_type": "markdown",
   "metadata": {},
   "source": [
    "# OBTANING INFORMATION ABOUT COMBINED DATASET"
   ]
  },
  {
   "cell_type": "code",
   "execution_count": 12,
   "metadata": {},
   "outputs": [
    {
     "name": "stdout",
     "output_type": "stream",
     "text": [
      "<class 'pandas.core.frame.DataFrame'>\n",
      "Int64Index: 1870 entries, 0 to 1869\n",
      "Data columns (total 47 columns):\n",
      " #   Column              Non-Null Count  Dtype  \n",
      "---  ------              --------------  -----  \n",
      " 0   Unnamed: 0          1870 non-null   int64  \n",
      " 1   Match_id            1870 non-null   int64  \n",
      " 2   Team1               1870 non-null   int64  \n",
      " 3   Team2               1870 non-null   int64  \n",
      " 4   Gender              1870 non-null   int64  \n",
      " 5   Date                1870 non-null   object \n",
      " 6   Season              1870 non-null   int64  \n",
      " 7   Series/Competition  1843 non-null   object \n",
      " 8   Match_number        1870 non-null   int64  \n",
      " 9   Venue               1870 non-null   object \n",
      " 10  City                1870 non-null   object \n",
      " 11  Neutral_venue       504 non-null    object \n",
      " 12  Toss_winner         1870 non-null   int64  \n",
      " 13  Toss_decision       1870 non-null   int64  \n",
      " 14  Player_of_match     1787 non-null   object \n",
      " 15  Umpire1             1870 non-null   object \n",
      " 16  Umpire2             1870 non-null   object \n",
      " 17  Reserve_umpire      1714 non-null   object \n",
      " 18  Tv_umpire           1472 non-null   object \n",
      " 19  Match_referee       1833 non-null   object \n",
      " 20  Winner              1870 non-null   int64  \n",
      " 21  Winner_runs         891 non-null    float64\n",
      " 22  Winner_wickets      979 non-null    float64\n",
      " 23  Method              153 non-null    object \n",
      " 24  Outcome             0 non-null      float64\n",
      " 25  Players_1           1870 non-null   object \n",
      " 26  Players_2           1870 non-null   object \n",
      " 27  Players_3           1870 non-null   object \n",
      " 28  Players_4           1870 non-null   object \n",
      " 29  Players_5           1870 non-null   object \n",
      " 30  Players_6           1870 non-null   object \n",
      " 31  Players_7           1870 non-null   object \n",
      " 32  Players_8           1870 non-null   object \n",
      " 33  Players_9           1870 non-null   object \n",
      " 34  Players_10          1870 non-null   object \n",
      " 35  Players_11          1870 non-null   object \n",
      " 36  Players_12          1870 non-null   object \n",
      " 37  Players_13          1870 non-null   object \n",
      " 38  Players_14          1870 non-null   object \n",
      " 39  Players_15          1870 non-null   object \n",
      " 40  Players_16          1870 non-null   object \n",
      " 41  Players_17          1870 non-null   object \n",
      " 42  Players_18          1870 non-null   object \n",
      " 43  Players_19          1870 non-null   object \n",
      " 44  Players_20          1870 non-null   object \n",
      " 45  Players_21          1870 non-null   object \n",
      " 46  Players_22          1870 non-null   object \n",
      "dtypes: float64(3), int64(10), object(34)\n",
      "memory usage: 701.2+ KB\n"
     ]
    }
   ],
   "source": [
    "df = pd.DataFrame(df3)\n",
    "df.info()"
   ]
  },
  {
   "cell_type": "markdown",
   "metadata": {},
   "source": [
    "# TOTAL TOSSES WON BY EACH TEAM"
   ]
  },
  {
   "cell_type": "code",
   "execution_count": 13,
   "metadata": {},
   "outputs": [
    {
     "name": "stdout",
     "output_type": "stream",
     "text": [
      "Total tosses won by team\n"
     ]
    },
    {
     "data": {
      "text/plain": [
       "Toss_winner\n",
       "1    156\n",
       "2     14\n",
       "3      8\n",
       "4     24\n",
       "5     17\n",
       "dtype: int64"
      ]
     },
     "execution_count": 13,
     "metadata": {},
     "output_type": "execute_result"
    }
   ],
   "source": [
    "tw=df3.groupby([\"Toss_winner\"]).size()\n",
    "print(\"Total tosses won by team\")\n",
    "tw.head()"
   ]
  },
  {
   "cell_type": "markdown",
   "metadata": {},
   "source": [
    "# TOTAL MATCHES WON BY EACH TEAM"
   ]
  },
  {
   "cell_type": "code",
   "execution_count": 14,
   "metadata": {},
   "outputs": [
    {
     "name": "stdout",
     "output_type": "stream",
     "text": [
      "Total Matches won by team\n"
     ]
    },
    {
     "data": {
      "text/plain": [
       "Winner\n",
       "1    209\n",
       "2     13\n",
       "3      5\n",
       "4     16\n",
       "5     14\n",
       "dtype: int64"
      ]
     },
     "execution_count": 14,
     "metadata": {},
     "output_type": "execute_result"
    }
   ],
   "source": [
    "mw=df3.groupby([\"Winner\"]).size()\n",
    "print(\"Total Matches won by team\")\n",
    "mw.head()"
   ]
  },
  {
   "cell_type": "markdown",
   "metadata": {},
   "source": [
    "# DESCRIBING COMBINED DATASET"
   ]
  },
  {
   "cell_type": "code",
   "execution_count": 15,
   "metadata": {},
   "outputs": [
    {
     "data": {
      "text/html": [
       "<div>\n",
       "<style scoped>\n",
       "    .dataframe tbody tr th:only-of-type {\n",
       "        vertical-align: middle;\n",
       "    }\n",
       "\n",
       "    .dataframe tbody tr th {\n",
       "        vertical-align: top;\n",
       "    }\n",
       "\n",
       "    .dataframe thead th {\n",
       "        text-align: right;\n",
       "    }\n",
       "</style>\n",
       "<table border=\"1\" class=\"dataframe\">\n",
       "  <thead>\n",
       "    <tr style=\"text-align: right;\">\n",
       "      <th></th>\n",
       "      <th>Unnamed: 0</th>\n",
       "      <th>Match_id</th>\n",
       "      <th>Team1</th>\n",
       "      <th>Team2</th>\n",
       "      <th>Gender</th>\n",
       "      <th>Season</th>\n",
       "      <th>Match_number</th>\n",
       "      <th>Toss_winner</th>\n",
       "      <th>Toss_decision</th>\n",
       "      <th>Winner</th>\n",
       "      <th>Winner_runs</th>\n",
       "      <th>Winner_wickets</th>\n",
       "      <th>Outcome</th>\n",
       "    </tr>\n",
       "  </thead>\n",
       "  <tbody>\n",
       "    <tr>\n",
       "      <th>count</th>\n",
       "      <td>1870.000000</td>\n",
       "      <td>1.870000e+03</td>\n",
       "      <td>1870.000000</td>\n",
       "      <td>1870.000000</td>\n",
       "      <td>1870.000000</td>\n",
       "      <td>1870.000000</td>\n",
       "      <td>1870.000000</td>\n",
       "      <td>1870.000000</td>\n",
       "      <td>1870.000000</td>\n",
       "      <td>1870.000000</td>\n",
       "      <td>891.000000</td>\n",
       "      <td>979.000000</td>\n",
       "      <td>0.0</td>\n",
       "    </tr>\n",
       "    <tr>\n",
       "      <th>mean</th>\n",
       "      <td>981.558289</td>\n",
       "      <td>6.456885e+05</td>\n",
       "      <td>18.018182</td>\n",
       "      <td>18.945455</td>\n",
       "      <td>0.908556</td>\n",
       "      <td>2012.085561</td>\n",
       "      <td>7.965241</td>\n",
       "      <td>18.385561</td>\n",
       "      <td>0.512834</td>\n",
       "      <td>17.572727</td>\n",
       "      <td>67.112233</td>\n",
       "      <td>5.810010</td>\n",
       "      <td>NaN</td>\n",
       "    </tr>\n",
       "    <tr>\n",
       "      <th>std</th>\n",
       "      <td>560.976998</td>\n",
       "      <td>2.860491e+05</td>\n",
       "      <td>16.033262</td>\n",
       "      <td>16.511332</td>\n",
       "      <td>0.288316</td>\n",
       "      <td>3.738389</td>\n",
       "      <td>12.084789</td>\n",
       "      <td>16.393650</td>\n",
       "      <td>0.499969</td>\n",
       "      <td>16.198997</td>\n",
       "      <td>55.643556</td>\n",
       "      <td>2.221079</td>\n",
       "      <td>NaN</td>\n",
       "    </tr>\n",
       "    <tr>\n",
       "      <th>min</th>\n",
       "      <td>12.000000</td>\n",
       "      <td>2.252460e+05</td>\n",
       "      <td>1.000000</td>\n",
       "      <td>1.000000</td>\n",
       "      <td>0.000000</td>\n",
       "      <td>2005.000000</td>\n",
       "      <td>0.000000</td>\n",
       "      <td>1.000000</td>\n",
       "      <td>0.000000</td>\n",
       "      <td>1.000000</td>\n",
       "      <td>1.000000</td>\n",
       "      <td>1.000000</td>\n",
       "      <td>NaN</td>\n",
       "    </tr>\n",
       "    <tr>\n",
       "      <th>25%</th>\n",
       "      <td>492.250000</td>\n",
       "      <td>4.152732e+05</td>\n",
       "      <td>8.000000</td>\n",
       "      <td>8.000000</td>\n",
       "      <td>1.000000</td>\n",
       "      <td>2009.000000</td>\n",
       "      <td>1.000000</td>\n",
       "      <td>8.000000</td>\n",
       "      <td>0.000000</td>\n",
       "      <td>8.000000</td>\n",
       "      <td>22.000000</td>\n",
       "      <td>4.000000</td>\n",
       "      <td>NaN</td>\n",
       "    </tr>\n",
       "    <tr>\n",
       "      <th>50%</th>\n",
       "      <td>981.500000</td>\n",
       "      <td>5.949105e+05</td>\n",
       "      <td>11.000000</td>\n",
       "      <td>11.000000</td>\n",
       "      <td>1.000000</td>\n",
       "      <td>2013.000000</td>\n",
       "      <td>3.000000</td>\n",
       "      <td>11.000000</td>\n",
       "      <td>1.000000</td>\n",
       "      <td>10.000000</td>\n",
       "      <td>54.000000</td>\n",
       "      <td>6.000000</td>\n",
       "      <td>NaN</td>\n",
       "    </tr>\n",
       "    <tr>\n",
       "      <th>75%</th>\n",
       "      <td>1467.750000</td>\n",
       "      <td>9.036005e+05</td>\n",
       "      <td>26.000000</td>\n",
       "      <td>26.000000</td>\n",
       "      <td>1.000000</td>\n",
       "      <td>2015.000000</td>\n",
       "      <td>7.000000</td>\n",
       "      <td>26.000000</td>\n",
       "      <td>1.000000</td>\n",
       "      <td>26.000000</td>\n",
       "      <td>96.000000</td>\n",
       "      <td>7.000000</td>\n",
       "      <td>NaN</td>\n",
       "    </tr>\n",
       "    <tr>\n",
       "      <th>max</th>\n",
       "      <td>1950.000000</td>\n",
       "      <td>1.185156e+06</td>\n",
       "      <td>76.000000</td>\n",
       "      <td>79.000000</td>\n",
       "      <td>1.000000</td>\n",
       "      <td>2019.000000</td>\n",
       "      <td>71.000000</td>\n",
       "      <td>79.000000</td>\n",
       "      <td>1.000000</td>\n",
       "      <td>78.000000</td>\n",
       "      <td>282.000000</td>\n",
       "      <td>10.000000</td>\n",
       "      <td>NaN</td>\n",
       "    </tr>\n",
       "  </tbody>\n",
       "</table>\n",
       "</div>"
      ],
      "text/plain": [
       "        Unnamed: 0      Match_id        Team1        Team2       Gender  \\\n",
       "count  1870.000000  1.870000e+03  1870.000000  1870.000000  1870.000000   \n",
       "mean    981.558289  6.456885e+05    18.018182    18.945455     0.908556   \n",
       "std     560.976998  2.860491e+05    16.033262    16.511332     0.288316   \n",
       "min      12.000000  2.252460e+05     1.000000     1.000000     0.000000   \n",
       "25%     492.250000  4.152732e+05     8.000000     8.000000     1.000000   \n",
       "50%     981.500000  5.949105e+05    11.000000    11.000000     1.000000   \n",
       "75%    1467.750000  9.036005e+05    26.000000    26.000000     1.000000   \n",
       "max    1950.000000  1.185156e+06    76.000000    79.000000     1.000000   \n",
       "\n",
       "            Season  Match_number  Toss_winner  Toss_decision       Winner  \\\n",
       "count  1870.000000   1870.000000  1870.000000    1870.000000  1870.000000   \n",
       "mean   2012.085561      7.965241    18.385561       0.512834    17.572727   \n",
       "std       3.738389     12.084789    16.393650       0.499969    16.198997   \n",
       "min    2005.000000      0.000000     1.000000       0.000000     1.000000   \n",
       "25%    2009.000000      1.000000     8.000000       0.000000     8.000000   \n",
       "50%    2013.000000      3.000000    11.000000       1.000000    10.000000   \n",
       "75%    2015.000000      7.000000    26.000000       1.000000    26.000000   \n",
       "max    2019.000000     71.000000    79.000000       1.000000    78.000000   \n",
       "\n",
       "       Winner_runs  Winner_wickets  Outcome  \n",
       "count   891.000000      979.000000      0.0  \n",
       "mean     67.112233        5.810010      NaN  \n",
       "std      55.643556        2.221079      NaN  \n",
       "min       1.000000        1.000000      NaN  \n",
       "25%      22.000000        4.000000      NaN  \n",
       "50%      54.000000        6.000000      NaN  \n",
       "75%      96.000000        7.000000      NaN  \n",
       "max     282.000000       10.000000      NaN  "
      ]
     },
     "execution_count": 15,
     "metadata": {},
     "output_type": "execute_result"
    }
   ],
   "source": [
    "df3.describe()"
   ]
  },
  {
   "cell_type": "markdown",
   "metadata": {},
   "source": [
    "# HEATMAP VISUALISATION OF ALL IMPORTANT FEATURES"
   ]
  },
  {
   "cell_type": "code",
   "execution_count": 16,
   "metadata": {},
   "outputs": [
    {
     "data": {
      "text/plain": [
       "<matplotlib.axes._subplots.AxesSubplot at 0x22d450268b0>"
      ]
     },
     "execution_count": 16,
     "metadata": {},
     "output_type": "execute_result"
    },
    {
     "data": {
      "image/png": "[encoded data removed]",
      "text/plain": [
       "<Figure size 432x288 with 2 Axes>"
      ]
     },
     "metadata": {
      "needs_background": "light"
     },
     "output_type": "display_data"
    }
   ],
   "source": [
    "sns.heatmap(data=df3.drop(['Match_id','Unnamed: 0','Date','Umpire1','Umpire2',\n",
    "          'Reserve_umpire','Tv_umpire','Match_referee','Neutral_venue',\n",
    "          'Method','Outcome','Winner_runs','Winner_wickets','Match_number','Venue','City'], axis=1).corr(), annot=True) "
   ]
  },
  {
   "cell_type": "markdown",
   "metadata": {},
   "source": [
    "# IDENTIFYING UNIQUE TEAMS IN SEASONS"
   ]
  },
  {
   "cell_type": "code",
   "execution_count": 17,
   "metadata": {},
   "outputs": [
    {
     "data": {
      "text/plain": [
       "array([2016, 2017, 2018, 2019, 2006, 2005, 2007, 2008, 2009, 2010, 2011,\n",
       "       2012, 2013, 2014, 2015], dtype=int64)"
      ]
     },
     "execution_count": 17,
     "metadata": {},
     "output_type": "execute_result"
    }
   ],
   "source": [
    "df3.Season.unique()"
   ]
  },
  {
   "cell_type": "markdown",
   "metadata": {},
   "source": [
    "# TOTAL NUMBER OF MATCHES PLAYED EACH SEASON"
   ]
  },
  {
   "cell_type": "code",
   "execution_count": 18,
   "metadata": {},
   "outputs": [
    {
     "name": "stdout",
     "output_type": "stream",
     "text": [
      "2014    230\n",
      "2016    201\n",
      "2013    162\n",
      "2009    148\n",
      "2015    145\n",
      "2010    140\n",
      "2006    134\n",
      "2012    128\n",
      "2011    122\n",
      "2007    115\n",
      "2017    112\n",
      "2008     90\n",
      "2019     64\n",
      "2005     46\n",
      "2018     33\n",
      "Name: Season, dtype: int64\n"
     ]
    }
   ],
   "source": [
    "s=df3.Season\n",
    "a=print(s.value_counts())"
   ]
  },
  {
   "cell_type": "markdown",
   "metadata": {},
   "source": [
    "# CREATING DATAFRAME FOR TOTAL MATCHES PLAYED IN A SEASON"
   ]
  },
  {
   "cell_type": "code",
   "execution_count": 19,
   "metadata": {},
   "outputs": [
    {
     "data": {
      "text/html": [
       "<div>\n",
       "<style scoped>\n",
       "    .dataframe tbody tr th:only-of-type {\n",
       "        vertical-align: middle;\n",
       "    }\n",
       "\n",
       "    .dataframe tbody tr th {\n",
       "        vertical-align: top;\n",
       "    }\n",
       "\n",
       "    .dataframe thead th {\n",
       "        text-align: right;\n",
       "    }\n",
       "</style>\n",
       "<table border=\"1\" class=\"dataframe\">\n",
       "  <thead>\n",
       "    <tr style=\"text-align: right;\">\n",
       "      <th></th>\n",
       "      <th>Season</th>\n",
       "      <th>Total Matches played</th>\n",
       "    </tr>\n",
       "  </thead>\n",
       "  <tbody>\n",
       "    <tr>\n",
       "      <th>0</th>\n",
       "      <td>2005</td>\n",
       "      <td>46</td>\n",
       "    </tr>\n",
       "    <tr>\n",
       "      <th>1</th>\n",
       "      <td>2006</td>\n",
       "      <td>134</td>\n",
       "    </tr>\n",
       "    <tr>\n",
       "      <th>2</th>\n",
       "      <td>2007</td>\n",
       "      <td>115</td>\n",
       "    </tr>\n",
       "    <tr>\n",
       "      <th>3</th>\n",
       "      <td>2008</td>\n",
       "      <td>90</td>\n",
       "    </tr>\n",
       "    <tr>\n",
       "      <th>4</th>\n",
       "      <td>2009</td>\n",
       "      <td>148</td>\n",
       "    </tr>\n",
       "    <tr>\n",
       "      <th>5</th>\n",
       "      <td>2010</td>\n",
       "      <td>140</td>\n",
       "    </tr>\n",
       "    <tr>\n",
       "      <th>6</th>\n",
       "      <td>2011</td>\n",
       "      <td>122</td>\n",
       "    </tr>\n",
       "    <tr>\n",
       "      <th>7</th>\n",
       "      <td>2012</td>\n",
       "      <td>128</td>\n",
       "    </tr>\n",
       "    <tr>\n",
       "      <th>8</th>\n",
       "      <td>2013</td>\n",
       "      <td>162</td>\n",
       "    </tr>\n",
       "    <tr>\n",
       "      <th>9</th>\n",
       "      <td>2014</td>\n",
       "      <td>230</td>\n",
       "    </tr>\n",
       "    <tr>\n",
       "      <th>10</th>\n",
       "      <td>2015</td>\n",
       "      <td>145</td>\n",
       "    </tr>\n",
       "    <tr>\n",
       "      <th>11</th>\n",
       "      <td>2016</td>\n",
       "      <td>201</td>\n",
       "    </tr>\n",
       "    <tr>\n",
       "      <th>12</th>\n",
       "      <td>2017</td>\n",
       "      <td>112</td>\n",
       "    </tr>\n",
       "    <tr>\n",
       "      <th>13</th>\n",
       "      <td>2018</td>\n",
       "      <td>33</td>\n",
       "    </tr>\n",
       "    <tr>\n",
       "      <th>14</th>\n",
       "      <td>2019</td>\n",
       "      <td>64</td>\n",
       "    </tr>\n",
       "  </tbody>\n",
       "</table>\n",
       "</div>"
      ],
      "text/plain": [
       "   Season Total Matches played\n",
       "0    2005                   46\n",
       "1    2006                  134\n",
       "2    2007                  115\n",
       "3    2008                   90\n",
       "4    2009                  148\n",
       "5    2010                  140\n",
       "6    2011                  122\n",
       "7    2012                  128\n",
       "8    2013                  162\n",
       "9    2014                  230\n",
       "10   2015                  145\n",
       "11   2016                  201\n",
       "12   2017                  112\n",
       "13   2018                   33\n",
       "14   2019                   64"
      ]
     },
     "execution_count": 19,
     "metadata": {},
     "output_type": "execute_result"
    }
   ],
   "source": [
    "count= {'Season':['2005','2006','2007','2008','2009','2010','2011','2012',\n",
    "                 '2013','2014','2015','2016','2017','2018','2019',],\n",
    "       'Total Matches played':['46','134','115','90','148','140','122','128'\n",
    "                              ,'162','230','145','201','112','33','64',]}\n",
    "df4=pd.DataFrame(count)\n",
    "df4"
   ]
  },
  {
   "cell_type": "markdown",
   "metadata": {},
   "source": [
    "# VISUALISATION OF TOTAL MATCHES PLAYED PER SEASON"
   ]
  },
  {
   "cell_type": "code",
   "execution_count": 20,
   "metadata": {},
   "outputs": [
    {
     "data": {
      "text/plain": [
       "Text(0.5, 1.0, 'Total matches played per season')"
      ]
     },
     "execution_count": 20,
     "metadata": {},
     "output_type": "execute_result"
    },
    {
     "data": {
      "image/png": "[encoded data removed]",
      "text/plain": [
       "<Figure size 432x288 with 1 Axes>"
      ]
     },
     "metadata": {
      "needs_background": "light"
     },
     "output_type": "display_data"
    }
   ],
   "source": [
    "df3['Season'].hist(bins=30)\n",
    "plt.xlabel(\"Seasons\")\n",
    "plt.ylabel(\"NO. OF Matches Played\")\n",
    "plt.title('Total matches played per season')"
   ]
  },
  {
   "cell_type": "markdown",
   "metadata": {},
   "source": [
    "# VISUALISATION OF TOSS WINNING FREQUENCY BY COUNTRY CODE"
   ]
  },
  {
   "cell_type": "code",
   "execution_count": 21,
   "metadata": {},
   "outputs": [
    {
     "data": {
      "text/plain": [
       "Text(0.5, 1.0, 'TOSS WINNING')"
      ]
     },
     "execution_count": 21,
     "metadata": {},
     "output_type": "execute_result"
    },
    {
     "data": {
      "image/png": "[encoded data removed]",
      "text/plain": [
       "<Figure size 432x288 with 1 Axes>"
      ]
     },
     "metadata": {
      "needs_background": "light"
     },
     "output_type": "display_data"
    }
   ],
   "source": [
    "df3['Winner'].hist(bins=100)\n",
    "plt.xlabel(\"TEAM CODE\")\n",
    "plt.ylabel(\"NO. OF TOSSES WON\")\n",
    "plt.title('TOSS WINNING')"
   ]
  },
  {
   "cell_type": "markdown",
   "metadata": {},
   "source": [
    "#    # VISUALISATION OF TOTAL WINS BY COUNTRY CODE"
   ]
  },
  {
   "cell_type": "code",
   "execution_count": 22,
   "metadata": {},
   "outputs": [
    {
     "data": {
      "text/plain": [
       "Text(0.5, 1.0, 'MATCH WINNING')"
      ]
     },
     "execution_count": 22,
     "metadata": {},
     "output_type": "execute_result"
    },
    {
     "data": {
      "image/png": "[encoded data removed]",
      "text/plain": [
       "<Figure size 432x288 with 1 Axes>"
      ]
     },
     "metadata": {
      "needs_background": "light"
     },
     "output_type": "display_data"
    }
   ],
   "source": [
    "df3['Winner'].hist(bins=100)\n",
    "plt.xlabel(\"TEAM CODE\")\n",
    "plt.ylabel(\"NO. OF MATCHES WON\")\n",
    "plt.title('MATCH WINNING')"
   ]
  },
  {
   "cell_type": "markdown",
   "metadata": {},
   "source": [
    "# BUILDING PREDICTIVE MODEL , COVERT CATEGORICAL TO NUMERICAL DATASET"
   ]
  },
  {
   "cell_type": "code",
   "execution_count": 23,
   "metadata": {
    "scrolled": false
   },
   "outputs": [
    {
     "data": {
      "text/html": [
       "<div>\n",
       "<style scoped>\n",
       "    .dataframe tbody tr th:only-of-type {\n",
       "        vertical-align: middle;\n",
       "    }\n",
       "\n",
       "    .dataframe tbody tr th {\n",
       "        vertical-align: top;\n",
       "    }\n",
       "\n",
       "    .dataframe thead th {\n",
       "        text-align: right;\n",
       "    }\n",
       "</style>\n",
       "<table border=\"1\" class=\"dataframe\">\n",
       "  <thead>\n",
       "    <tr style=\"text-align: right;\">\n",
       "      <th></th>\n",
       "      <th>Unnamed: 0</th>\n",
       "      <th>Match_id</th>\n",
       "      <th>Team1</th>\n",
       "      <th>Team2</th>\n",
       "      <th>Gender</th>\n",
       "      <th>Date</th>\n",
       "      <th>Season</th>\n",
       "      <th>Series/Competition</th>\n",
       "      <th>Match_number</th>\n",
       "      <th>Venue</th>\n",
       "      <th>...</th>\n",
       "      <th>Players_13</th>\n",
       "      <th>Players_14</th>\n",
       "      <th>Players_15</th>\n",
       "      <th>Players_16</th>\n",
       "      <th>Players_17</th>\n",
       "      <th>Players_18</th>\n",
       "      <th>Players_19</th>\n",
       "      <th>Players_20</th>\n",
       "      <th>Players_21</th>\n",
       "      <th>Players_22</th>\n",
       "    </tr>\n",
       "  </thead>\n",
       "  <tbody>\n",
       "    <tr>\n",
       "      <th>0</th>\n",
       "      <td>12</td>\n",
       "      <td>1004261</td>\n",
       "      <td>4</td>\n",
       "      <td>57</td>\n",
       "      <td>1</td>\n",
       "      <td>13-08-2016</td>\n",
       "      <td>2016</td>\n",
       "      <td>\"ICC World Cricket League Championship</td>\n",
       "      <td>25</td>\n",
       "      <td>210</td>\n",
       "      <td>...</td>\n",
       "      <td>MJG Rippon</td>\n",
       "      <td>W Barresi</td>\n",
       "      <td>BN Cooper</td>\n",
       "      <td>RE van der Merwe</td>\n",
       "      <td>T van der Gugten</td>\n",
       "      <td>Mudassar Bukhari</td>\n",
       "      <td>Ahsan Malik</td>\n",
       "      <td>PA van Meekeren</td>\n",
       "      <td>-</td>\n",
       "      <td>-</td>\n",
       "    </tr>\n",
       "    <tr>\n",
       "      <th>1</th>\n",
       "      <td>13</td>\n",
       "      <td>1004269</td>\n",
       "      <td>5</td>\n",
       "      <td>19</td>\n",
       "      <td>1</td>\n",
       "      <td>20-11-2016</td>\n",
       "      <td>2016</td>\n",
       "      <td>\"ICC World Cricket League Championship</td>\n",
       "      <td>32</td>\n",
       "      <td>91</td>\n",
       "      <td>...</td>\n",
       "      <td>AA Obanda</td>\n",
       "      <td>DM Gondaria</td>\n",
       "      <td>RR Patel</td>\n",
       "      <td>CO Obuya</td>\n",
       "      <td>NK Patel</td>\n",
       "      <td>Gurdeep Singh</td>\n",
       "      <td>NN Odhiambo</td>\n",
       "      <td>SO Ngoche</td>\n",
       "      <td>NM Odhiambo</td>\n",
       "      <td>LN Oluoch</td>\n",
       "    </tr>\n",
       "    <tr>\n",
       "      <th>2</th>\n",
       "      <td>15</td>\n",
       "      <td>1004285</td>\n",
       "      <td>2</td>\n",
       "      <td>19</td>\n",
       "      <td>1</td>\n",
       "      <td>10-09-2016</td>\n",
       "      <td>2016</td>\n",
       "      <td>Hong Kong in Scotland ODI Series</td>\n",
       "      <td>2</td>\n",
       "      <td>8</td>\n",
       "      <td>...</td>\n",
       "      <td>Aizaz Khan</td>\n",
       "      <td>Babar Hayat</td>\n",
       "      <td>Nizakat Khan</td>\n",
       "      <td>Anshuman Rath</td>\n",
       "      <td>Ehsan Khan</td>\n",
       "      <td>Shahid Wasif</td>\n",
       "      <td>Waqas Khan</td>\n",
       "      <td>Tanwir Afzal</td>\n",
       "      <td>Nadeem Ahmed</td>\n",
       "      <td>Tanveer Ahmed</td>\n",
       "    </tr>\n",
       "    <tr>\n",
       "      <th>3</th>\n",
       "      <td>16</td>\n",
       "      <td>1007649</td>\n",
       "      <td>6</td>\n",
       "      <td>10</td>\n",
       "      <td>1</td>\n",
       "      <td>11-06-2016</td>\n",
       "      <td>2016</td>\n",
       "      <td>India in Zimbabwe ODI Series</td>\n",
       "      <td>1</td>\n",
       "      <td>93</td>\n",
       "      <td>...</td>\n",
       "      <td>KK Nair</td>\n",
       "      <td>AT Rayudu</td>\n",
       "      <td>DS Kulkarni</td>\n",
       "      <td>BB Sran</td>\n",
       "      <td>JJ Bumrah</td>\n",
       "      <td>AR Patel</td>\n",
       "      <td>YS Chahal</td>\n",
       "      <td>-</td>\n",
       "      <td>-</td>\n",
       "      <td>-</td>\n",
       "    </tr>\n",
       "    <tr>\n",
       "      <th>4</th>\n",
       "      <td>17</td>\n",
       "      <td>1007651</td>\n",
       "      <td>6</td>\n",
       "      <td>10</td>\n",
       "      <td>1</td>\n",
       "      <td>13-06-2016</td>\n",
       "      <td>2016</td>\n",
       "      <td>India in Zimbabwe ODI Series</td>\n",
       "      <td>2</td>\n",
       "      <td>93</td>\n",
       "      <td>...</td>\n",
       "      <td>KK Nair</td>\n",
       "      <td>AT Rayudu</td>\n",
       "      <td>MK Pandey</td>\n",
       "      <td>BB Sran</td>\n",
       "      <td>DS Kulkarni</td>\n",
       "      <td>JJ Bumrah</td>\n",
       "      <td>AR Patel</td>\n",
       "      <td>YS Chahal</td>\n",
       "      <td>-</td>\n",
       "      <td>-</td>\n",
       "    </tr>\n",
       "  </tbody>\n",
       "</table>\n",
       "<p>5 rows × 47 columns</p>\n",
       "</div>"
      ],
      "text/plain": [
       "   Unnamed: 0  Match_id  Team1  Team2  Gender        Date  Season  \\\n",
       "0          12   1004261      4     57       1  13-08-2016    2016   \n",
       "1          13   1004269      5     19       1  20-11-2016    2016   \n",
       "2          15   1004285      2     19       1  10-09-2016    2016   \n",
       "3          16   1007649      6     10       1  11-06-2016    2016   \n",
       "4          17   1007651      6     10       1  13-06-2016    2016   \n",
       "\n",
       "                       Series/Competition  Match_number  Venue  ...  \\\n",
       "0  \"ICC World Cricket League Championship            25    210  ...   \n",
       "1  \"ICC World Cricket League Championship            32     91  ...   \n",
       "2        Hong Kong in Scotland ODI Series             2      8  ...   \n",
       "3            India in Zimbabwe ODI Series             1     93  ...   \n",
       "4            India in Zimbabwe ODI Series             2     93  ...   \n",
       "\n",
       "   Players_13   Players_14    Players_15        Players_16        Players_17  \\\n",
       "0  MJG Rippon    W Barresi     BN Cooper  RE van der Merwe  T van der Gugten   \n",
       "1   AA Obanda  DM Gondaria      RR Patel          CO Obuya          NK Patel   \n",
       "2  Aizaz Khan  Babar Hayat  Nizakat Khan     Anshuman Rath        Ehsan Khan   \n",
       "3     KK Nair    AT Rayudu   DS Kulkarni           BB Sran         JJ Bumrah   \n",
       "4     KK Nair    AT Rayudu     MK Pandey           BB Sran       DS Kulkarni   \n",
       "\n",
       "         Players_18   Players_19       Players_20    Players_21     Players_22  \n",
       "0  Mudassar Bukhari  Ahsan Malik  PA van Meekeren             -              -  \n",
       "1     Gurdeep Singh  NN Odhiambo        SO Ngoche   NM Odhiambo      LN Oluoch  \n",
       "2      Shahid Wasif   Waqas Khan     Tanwir Afzal  Nadeem Ahmed  Tanveer Ahmed  \n",
       "3          AR Patel    YS Chahal                -             -              -  \n",
       "4         JJ Bumrah     AR Patel        YS Chahal             -              -  \n",
       "\n",
       "[5 rows x 47 columns]"
      ]
     },
     "execution_count": 23,
     "metadata": {},
     "output_type": "execute_result"
    }
   ],
   "source": [
    "var_mod = ['City','Toss_winner','Toss_decision','Venue']\n",
    "le = LabelEncoder()\n",
    "for i in var_mod:\n",
    "    df[i] = le.fit_transform(df[i])\n",
    "df.head(5)"
   ]
  },
  {
   "cell_type": "markdown",
   "metadata": {},
   "source": [
    "# ENCODED ENTITIES"
   ]
  },
  {
   "cell_type": "markdown",
   "metadata": {},
   "source": [
    "# 1. ENCODED VALUES OF TEAM1/TEAM2/TOSS_WINNER/WINNER"
   ]
  },
  {
   "cell_type": "markdown",
   "metadata": {},
   "source": [
    "{'Australia' : 1, 'Scotland' : 2, 'Papua New Guinea' : 3, 'Netherlands' : 4,'Kenya' : 5, 'Zimbabwe' : 6, 'New Zealand' : 7, 'England' : 8,\n",
    "'South Africa' : 9,'India' : 10,'Pakistan' : 11,'Bangladesh' : 12,'Adelaide Strikers' : 13,'Perth Scorchers' : 14,'Sydney Thunder' : 15, \n",
    "'Brisbane Heat' : 16,'Sydney Sixers' : 17, 'Melbourne Stars' : 18, 'Hong Kong' : 19, 'West Indies' : 20,'Vanuatu' : 21, 'Maldives' : 22, \n",
    "'Saudi Arabia' : 23,'Ireland' : 24, 'Afghanistan' : 25, 'Sri Lanka' : 26, 'Malaysia' : 27, 'Denmark' : 28,'Bermuda' : 29, \n",
    " 'United States of America' : 30, 'Italy' : 31, 'Japan' : 32,'United Arab Emirates' : 33,'Thailand' : 34,'Rising Pune Supergiant' : 35,\n",
    "'Mumbai Indians' : 36,'Kolkata Knight Riders' : 37,'Kings XI Punjab' : 38,'Delhi Daredevils' : 39,'Royal Challengers Bangalore' : 40,\n",
    "'Sunrisers Hyderabad' : 41, 'Nigeria' : 42, 'Ghana' : 43, 'Botswana' : 44,'Sierra Leone' : 45,'Tanzania' : 46,'Qatar' : 47,'Bahrain' : 48,\n",
    "'Melbourne Renegades' : 49, 'Rajasthan Royals' : 50, 'Chennai Super Kings' : 51,'Hobart Hurricanes' : 52, 'Delhi Capitals' : 53, \n",
    "'Canada' : 54, 'Africa XI' : 55,'Deccan Chargers' : 56, 'Nepal' : 57, 'Argentina' : 58, 'Cayman Islands' : 59,'Pune Warriors' : 60, \n",
    "'Singapore' : 61, 'Bhutan' : 62, 'Samoa' : 63, 'Belgium' : 64, 'Oman' : 65,'Kuwait' : 66, 'Jersey' : 67, 'China' : 68, 'South Korea' : 69, \n",
    "'Uganda' : 70, 'Namibia' : 71,'Fiji' : 72, 'Norway' : 73, 'Guernsey' : 74, 'Suriname' : 75,'Gujarat Lions' : 76,'Zambia' : 77,'Asia XI' : 78,\n",
    "'Kochi Tuskers Kerala' : 79}"
   ]
  },
  {
   "cell_type": "markdown",
   "metadata": {},
   "source": [
    "# > IDENTIFYING UNIQUE TEAMS IN TEAM1"
   ]
  },
  {
   "cell_type": "code",
   "execution_count": 24,
   "metadata": {
    "scrolled": true
   },
   "outputs": [
    {
     "data": {
      "text/plain": [
       "array([ 4,  5,  2,  6,  3,  7,  8,  9, 10, 11, 12, 13, 14, 15, 16, 17, 18,\n",
       "       19, 20, 24, 25,  1, 26, 27, 28, 29, 30, 31, 32, 33, 34, 35, 36, 37,\n",
       "       38, 39, 40, 41, 42, 43, 44, 45, 46, 47, 48, 49, 50, 51, 52, 53, 54,\n",
       "       55, 56, 58, 59, 57, 60, 61, 62, 63, 64, 65, 66, 67, 68, 69, 70, 71,\n",
       "       72, 73, 74, 75, 76], dtype=int64)"
      ]
     },
     "execution_count": 24,
     "metadata": {},
     "output_type": "execute_result"
    }
   ],
   "source": [
    "df3.Team1.unique()"
   ]
  },
  {
   "cell_type": "markdown",
   "metadata": {},
   "source": [
    "# >IDENTIFYING UNIQUE TEAMS IN TEAM2"
   ]
  },
  {
   "cell_type": "code",
   "execution_count": 25,
   "metadata": {},
   "outputs": [
    {
     "data": {
      "text/plain": [
       "array([57, 19, 10,  5, 12,  1,  9, 26, 11,  7, 16, 13, 52, 18, 15, 49, 17,\n",
       "        3,  8, 24,  2, 61, 20, 25, 31, 65, 67, 28, 68,  4, 71,  6, 34, 36,\n",
       "       37, 38, 41, 76, 40, 35, 46, 45, 77, 42, 43, 66, 62, 50, 51, 14, 53,\n",
       "       29, 54, 78, 33, 39, 56, 58, 30, 59, 79, 21, 32, 73, 60, 70, 74, 22,\n",
       "       23, 27, 75, 72], dtype=int64)"
      ]
     },
     "execution_count": 25,
     "metadata": {},
     "output_type": "execute_result"
    }
   ],
   "source": [
    "df3.Team2.unique()"
   ]
  },
  {
   "cell_type": "markdown",
   "metadata": {},
   "source": [
    "# 2. ENCODED VALUE OF GENDER"
   ]
  },
  {
   "cell_type": "markdown",
   "metadata": {},
   "source": [
    "{'Female' :  0, 'Male' : 1}"
   ]
  },
  {
   "cell_type": "markdown",
   "metadata": {},
   "source": [
    "# 3. ENCODED VALUE OF TOSS_DECISION"
   ]
  },
  {
   "cell_type": "markdown",
   "metadata": {},
   "source": [
    "{'Field' : 0, 'Bat' : 1}"
   ]
  },
  {
   "cell_type": "markdown",
   "metadata": {},
   "source": [
    "# FEATURES GOING TO BE USED FOR PREDICTION"
   ]
  },
  {
   "cell_type": "code",
   "execution_count": 26,
   "metadata": {},
   "outputs": [
    {
     "data": {
      "text/html": [
       "<div>\n",
       "<style scoped>\n",
       "    .dataframe tbody tr th:only-of-type {\n",
       "        vertical-align: middle;\n",
       "    }\n",
       "\n",
       "    .dataframe tbody tr th {\n",
       "        vertical-align: top;\n",
       "    }\n",
       "\n",
       "    .dataframe thead th {\n",
       "        text-align: right;\n",
       "    }\n",
       "</style>\n",
       "<table border=\"1\" class=\"dataframe\">\n",
       "  <thead>\n",
       "    <tr style=\"text-align: right;\">\n",
       "      <th></th>\n",
       "      <th>Team1</th>\n",
       "      <th>Team2</th>\n",
       "      <th>Gender</th>\n",
       "      <th>Season</th>\n",
       "      <th>Toss_winner</th>\n",
       "      <th>Toss_decision</th>\n",
       "      <th>Winner</th>\n",
       "    </tr>\n",
       "  </thead>\n",
       "  <tbody>\n",
       "    <tr>\n",
       "      <th>0</th>\n",
       "      <td>4</td>\n",
       "      <td>57</td>\n",
       "      <td>1</td>\n",
       "      <td>2016</td>\n",
       "      <td>3</td>\n",
       "      <td>0</td>\n",
       "      <td>4</td>\n",
       "    </tr>\n",
       "    <tr>\n",
       "      <th>1</th>\n",
       "      <td>5</td>\n",
       "      <td>19</td>\n",
       "      <td>1</td>\n",
       "      <td>2016</td>\n",
       "      <td>4</td>\n",
       "      <td>0</td>\n",
       "      <td>19</td>\n",
       "    </tr>\n",
       "    <tr>\n",
       "      <th>2</th>\n",
       "      <td>2</td>\n",
       "      <td>19</td>\n",
       "      <td>1</td>\n",
       "      <td>2016</td>\n",
       "      <td>1</td>\n",
       "      <td>1</td>\n",
       "      <td>2</td>\n",
       "    </tr>\n",
       "    <tr>\n",
       "      <th>3</th>\n",
       "      <td>6</td>\n",
       "      <td>10</td>\n",
       "      <td>1</td>\n",
       "      <td>2016</td>\n",
       "      <td>9</td>\n",
       "      <td>0</td>\n",
       "      <td>10</td>\n",
       "    </tr>\n",
       "    <tr>\n",
       "      <th>4</th>\n",
       "      <td>6</td>\n",
       "      <td>10</td>\n",
       "      <td>1</td>\n",
       "      <td>2016</td>\n",
       "      <td>9</td>\n",
       "      <td>0</td>\n",
       "      <td>10</td>\n",
       "    </tr>\n",
       "    <tr>\n",
       "      <th>...</th>\n",
       "      <td>...</td>\n",
       "      <td>...</td>\n",
       "      <td>...</td>\n",
       "      <td>...</td>\n",
       "      <td>...</td>\n",
       "      <td>...</td>\n",
       "      <td>...</td>\n",
       "    </tr>\n",
       "    <tr>\n",
       "      <th>1865</th>\n",
       "      <td>24</td>\n",
       "      <td>25</td>\n",
       "      <td>1</td>\n",
       "      <td>2016</td>\n",
       "      <td>23</td>\n",
       "      <td>0</td>\n",
       "      <td>25</td>\n",
       "    </tr>\n",
       "    <tr>\n",
       "      <th>1866</th>\n",
       "      <td>24</td>\n",
       "      <td>25</td>\n",
       "      <td>1</td>\n",
       "      <td>2016</td>\n",
       "      <td>24</td>\n",
       "      <td>1</td>\n",
       "      <td>25</td>\n",
       "    </tr>\n",
       "    <tr>\n",
       "      <th>1867</th>\n",
       "      <td>24</td>\n",
       "      <td>25</td>\n",
       "      <td>1</td>\n",
       "      <td>2016</td>\n",
       "      <td>24</td>\n",
       "      <td>0</td>\n",
       "      <td>24</td>\n",
       "    </tr>\n",
       "    <tr>\n",
       "      <th>1868</th>\n",
       "      <td>2</td>\n",
       "      <td>33</td>\n",
       "      <td>1</td>\n",
       "      <td>2016</td>\n",
       "      <td>32</td>\n",
       "      <td>0</td>\n",
       "      <td>2</td>\n",
       "    </tr>\n",
       "    <tr>\n",
       "      <th>1869</th>\n",
       "      <td>2</td>\n",
       "      <td>33</td>\n",
       "      <td>1</td>\n",
       "      <td>2016</td>\n",
       "      <td>32</td>\n",
       "      <td>1</td>\n",
       "      <td>2</td>\n",
       "    </tr>\n",
       "  </tbody>\n",
       "</table>\n",
       "<p>1870 rows × 7 columns</p>\n",
       "</div>"
      ],
      "text/plain": [
       "      Team1  Team2  Gender  Season  Toss_winner  Toss_decision  Winner\n",
       "0         4     57       1    2016            3              0       4\n",
       "1         5     19       1    2016            4              0      19\n",
       "2         2     19       1    2016            1              1       2\n",
       "3         6     10       1    2016            9              0      10\n",
       "4         6     10       1    2016            9              0      10\n",
       "...     ...    ...     ...     ...          ...            ...     ...\n",
       "1865     24     25       1    2016           23              0      25\n",
       "1866     24     25       1    2016           24              1      25\n",
       "1867     24     25       1    2016           24              0      24\n",
       "1868      2     33       1    2016           32              0       2\n",
       "1869      2     33       1    2016           32              1       2\n",
       "\n",
       "[1870 rows x 7 columns]"
      ]
     },
     "execution_count": 26,
     "metadata": {},
     "output_type": "execute_result"
    }
   ],
   "source": [
    "X = df3[['Team1', 'Team2','Gender','Season' ,'Toss_winner','Toss_decision','Winner']]\n",
    "X"
   ]
  },
  {
   "cell_type": "markdown",
   "metadata": {},
   "source": [
    "# APPLYING RANDOM FORESET CLASSIFCATIONS FOR PREDICTING PLAYERS"
   ]
  },
  {
   "cell_type": "markdown",
   "metadata": {},
   "source": [
    "# PLAYER_1 PREDICTION"
   ]
  },
  {
   "cell_type": "code",
   "execution_count": 27,
   "metadata": {},
   "outputs": [
    {
     "data": {
      "text/html": [
       "<div>\n",
       "<style scoped>\n",
       "    .dataframe tbody tr th:only-of-type {\n",
       "        vertical-align: middle;\n",
       "    }\n",
       "\n",
       "    .dataframe tbody tr th {\n",
       "        vertical-align: top;\n",
       "    }\n",
       "\n",
       "    .dataframe thead th {\n",
       "        text-align: right;\n",
       "    }\n",
       "</style>\n",
       "<table border=\"1\" class=\"dataframe\">\n",
       "  <thead>\n",
       "    <tr style=\"text-align: right;\">\n",
       "      <th></th>\n",
       "      <th>Players_1</th>\n",
       "    </tr>\n",
       "  </thead>\n",
       "  <tbody>\n",
       "    <tr>\n",
       "      <th>0</th>\n",
       "      <td>G Malla</td>\n",
       "    </tr>\n",
       "    <tr>\n",
       "      <th>1</th>\n",
       "      <td>C Carter</td>\n",
       "    </tr>\n",
       "    <tr>\n",
       "      <th>2</th>\n",
       "      <td>KJ Coetzer</td>\n",
       "    </tr>\n",
       "    <tr>\n",
       "      <th>3</th>\n",
       "      <td>PJ Moor</td>\n",
       "    </tr>\n",
       "    <tr>\n",
       "      <th>4</th>\n",
       "      <td>H Masakadza</td>\n",
       "    </tr>\n",
       "    <tr>\n",
       "      <th>...</th>\n",
       "      <td>...</td>\n",
       "    </tr>\n",
       "    <tr>\n",
       "      <th>1865</th>\n",
       "      <td>Mohammad Shahzad</td>\n",
       "    </tr>\n",
       "    <tr>\n",
       "      <th>1866</th>\n",
       "      <td>Mohammad Shahzad</td>\n",
       "    </tr>\n",
       "    <tr>\n",
       "      <th>1867</th>\n",
       "      <td>WTS Porterfield</td>\n",
       "    </tr>\n",
       "    <tr>\n",
       "      <th>1868</th>\n",
       "      <td>KJ Coetzer</td>\n",
       "    </tr>\n",
       "    <tr>\n",
       "      <th>1869</th>\n",
       "      <td>Rohan Mustafa</td>\n",
       "    </tr>\n",
       "  </tbody>\n",
       "</table>\n",
       "<p>1870 rows × 1 columns</p>\n",
       "</div>"
      ],
      "text/plain": [
       "             Players_1\n",
       "0              G Malla\n",
       "1             C Carter\n",
       "2           KJ Coetzer\n",
       "3              PJ Moor\n",
       "4          H Masakadza\n",
       "...                ...\n",
       "1865  Mohammad Shahzad\n",
       "1866  Mohammad Shahzad\n",
       "1867   WTS Porterfield\n",
       "1868        KJ Coetzer\n",
       "1869     Rohan Mustafa\n",
       "\n",
       "[1870 rows x 1 columns]"
      ]
     },
     "execution_count": 27,
     "metadata": {},
     "output_type": "execute_result"
    }
   ],
   "source": [
    "y = df3[['Players_1']]\n",
    "y"
   ]
  },
  {
   "cell_type": "markdown",
   "metadata": {},
   "source": [
    "# PREDICTED PLAYER_1 ALONG WITH ACCURACY"
   ]
  },
  {
   "cell_type": "code",
   "execution_count": 28,
   "metadata": {},
   "outputs": [
    {
     "name": "stderr",
     "output_type": "stream",
     "text": [
      "<ipython-input-28-c7fd62c1db4c>:5: DataConversionWarning: A column-vector y was passed when a 1d array was expected. Please change the shape of y to (n_samples,), for example using ravel().\n",
      "  clf.fit(X, y)\n",
      "<ipython-input-28-c7fd62c1db4c>:6: DataConversionWarning: A column-vector y was passed when a 1d array was expected. Please change the shape of y to (n_samples,), for example using ravel().\n",
      "  clf = RandomForestClassifier(random_state=0).fit(X_train, y_train)\n"
     ]
    },
    {
     "name": "stdout",
     "output_type": "stream",
     "text": [
      "['Player 1 is: DR Smith']\n",
      "Accuracy of Player 1 is:  31.02 %\n"
     ]
    }
   ],
   "source": [
    "#I will split data 20%\n",
    "X_train, X_test, y_train, y_test = train_test_split(X, y, test_size=0.2\n",
    "                                                    , random_state=10)\n",
    "clf = RandomForestClassifier(max_depth=1, random_state=1)\n",
    "clf.fit(X, y)\n",
    "clf = RandomForestClassifier(random_state=0).fit(X_train, y_train)\n",
    "clf.predict_proba(X_test[:11])\n",
    "p1=clf.predict(X_test[:1])\n",
    "print(\"Player 1 is: \"+p1)\n",
    "a1=(clf.score(X_test, y_test))*100\n",
    "a1=round(a1,2)\n",
    "print(\"Accuracy of Player 1 is: \",a1,\"%\")"
   ]
  },
  {
   "cell_type": "markdown",
   "metadata": {},
   "source": [
    "# PLAYER_2 PREDICTION"
   ]
  },
  {
   "cell_type": "code",
   "execution_count": 29,
   "metadata": {
    "scrolled": true
   },
   "outputs": [
    {
     "data": {
      "text/html": [
       "<div>\n",
       "<style scoped>\n",
       "    .dataframe tbody tr th:only-of-type {\n",
       "        vertical-align: middle;\n",
       "    }\n",
       "\n",
       "    .dataframe tbody tr th {\n",
       "        vertical-align: top;\n",
       "    }\n",
       "\n",
       "    .dataframe thead th {\n",
       "        text-align: right;\n",
       "    }\n",
       "</style>\n",
       "<table border=\"1\" class=\"dataframe\">\n",
       "  <thead>\n",
       "    <tr style=\"text-align: right;\">\n",
       "      <th></th>\n",
       "      <th>Players_2</th>\n",
       "    </tr>\n",
       "  </thead>\n",
       "  <tbody>\n",
       "    <tr>\n",
       "      <th>0</th>\n",
       "      <td>AK Mandal</td>\n",
       "    </tr>\n",
       "    <tr>\n",
       "      <th>1</th>\n",
       "      <td>KD Shah</td>\n",
       "    </tr>\n",
       "    <tr>\n",
       "      <th>2</th>\n",
       "      <td>MH Cross</td>\n",
       "    </tr>\n",
       "    <tr>\n",
       "      <th>3</th>\n",
       "      <td>CJ Chibhabha</td>\n",
       "    </tr>\n",
       "    <tr>\n",
       "      <th>4</th>\n",
       "      <td>CJ Chibhabha</td>\n",
       "    </tr>\n",
       "  </tbody>\n",
       "</table>\n",
       "</div>"
      ],
      "text/plain": [
       "      Players_2\n",
       "0     AK Mandal\n",
       "1       KD Shah\n",
       "2      MH Cross\n",
       "3  CJ Chibhabha\n",
       "4  CJ Chibhabha"
      ]
     },
     "execution_count": 29,
     "metadata": {},
     "output_type": "execute_result"
    }
   ],
   "source": [
    "y = df3[['Players_2']]\n",
    "y.head()"
   ]
  },
  {
   "cell_type": "markdown",
   "metadata": {},
   "source": [
    "# PREDICTED PLAYER_2 ALONG WITH ACCURACY"
   ]
  },
  {
   "cell_type": "code",
   "execution_count": 30,
   "metadata": {},
   "outputs": [
    {
     "name": "stderr",
     "output_type": "stream",
     "text": [
      "<ipython-input-30-97b81b3b41c2>:4: DataConversionWarning: A column-vector y was passed when a 1d array was expected. Please change the shape of y to (n_samples,), for example using ravel().\n",
      "  clf.fit(X, y)\n",
      "<ipython-input-30-97b81b3b41c2>:5: DataConversionWarning: A column-vector y was passed when a 1d array was expected. Please change the shape of y to (n_samples,), for example using ravel().\n",
      "  clf = RandomForestClassifier(random_state=0).fit(X_train, y_train)\n"
     ]
    },
    {
     "name": "stdout",
     "output_type": "stream",
     "text": [
      "['Player 2 is: BB McCullum']\n",
      "Accuracy of Player 2 is:  28.34 %\n"
     ]
    }
   ],
   "source": [
    "X_train, X_test, y_train, y_test = train_test_split(X, y, test_size=0.2, random_state=10)\n",
    "\n",
    "clf = RandomForestClassifier(max_depth=1, random_state=1)\n",
    "clf.fit(X, y)\n",
    "clf = RandomForestClassifier(random_state=0).fit(X_train, y_train)\n",
    "clf.predict_proba(X_test[:11])\n",
    "p2=clf.predict(X_test[:1])\n",
    "print(\"Player 2 is: \"+p2)\n",
    "a2=(clf.score(X_test, y_test))*100\n",
    "a2=round(a2,2)\n",
    "print(\"Accuracy of Player 2 is: \",a2,\"%\")"
   ]
  },
  {
   "cell_type": "markdown",
   "metadata": {},
   "source": [
    "# PLAYER_3 PREDICTION"
   ]
  },
  {
   "cell_type": "code",
   "execution_count": 31,
   "metadata": {},
   "outputs": [
    {
     "data": {
      "text/html": [
       "<div>\n",
       "<style scoped>\n",
       "    .dataframe tbody tr th:only-of-type {\n",
       "        vertical-align: middle;\n",
       "    }\n",
       "\n",
       "    .dataframe tbody tr th {\n",
       "        vertical-align: top;\n",
       "    }\n",
       "\n",
       "    .dataframe thead th {\n",
       "        text-align: right;\n",
       "    }\n",
       "</style>\n",
       "<table border=\"1\" class=\"dataframe\">\n",
       "  <thead>\n",
       "    <tr style=\"text-align: right;\">\n",
       "      <th></th>\n",
       "      <th>Players_3</th>\n",
       "    </tr>\n",
       "  </thead>\n",
       "  <tbody>\n",
       "    <tr>\n",
       "      <th>0</th>\n",
       "      <td>S Vesawkar</td>\n",
       "    </tr>\n",
       "    <tr>\n",
       "      <th>1</th>\n",
       "      <td>Babar Hayat</td>\n",
       "    </tr>\n",
       "    <tr>\n",
       "      <th>2</th>\n",
       "      <td>CS MacLeod</td>\n",
       "    </tr>\n",
       "    <tr>\n",
       "      <th>3</th>\n",
       "      <td>H Masakadza</td>\n",
       "    </tr>\n",
       "    <tr>\n",
       "      <th>4</th>\n",
       "      <td>PJ Moor</td>\n",
       "    </tr>\n",
       "    <tr>\n",
       "      <th>...</th>\n",
       "      <td>...</td>\n",
       "    </tr>\n",
       "    <tr>\n",
       "      <th>1865</th>\n",
       "      <td>Rahmat Shah</td>\n",
       "    </tr>\n",
       "    <tr>\n",
       "      <th>1866</th>\n",
       "      <td>Rahmat Shah</td>\n",
       "    </tr>\n",
       "    <tr>\n",
       "      <th>1867</th>\n",
       "      <td>SP Terry</td>\n",
       "    </tr>\n",
       "    <tr>\n",
       "      <th>1868</th>\n",
       "      <td>CS MacLeod</td>\n",
       "    </tr>\n",
       "    <tr>\n",
       "      <th>1869</th>\n",
       "      <td>Mohammad Shahzad (2)</td>\n",
       "    </tr>\n",
       "  </tbody>\n",
       "</table>\n",
       "<p>1870 rows × 1 columns</p>\n",
       "</div>"
      ],
      "text/plain": [
       "                 Players_3\n",
       "0               S Vesawkar\n",
       "1              Babar Hayat\n",
       "2               CS MacLeod\n",
       "3              H Masakadza\n",
       "4                  PJ Moor\n",
       "...                    ...\n",
       "1865           Rahmat Shah\n",
       "1866           Rahmat Shah\n",
       "1867              SP Terry\n",
       "1868            CS MacLeod\n",
       "1869  Mohammad Shahzad (2)\n",
       "\n",
       "[1870 rows x 1 columns]"
      ]
     },
     "execution_count": 31,
     "metadata": {},
     "output_type": "execute_result"
    }
   ],
   "source": [
    "y = df3[['Players_3']]\n",
    "y"
   ]
  },
  {
   "cell_type": "markdown",
   "metadata": {},
   "source": [
    "# PREDICTED PLAYER_3 ALONG WITH ACCURACY"
   ]
  },
  {
   "cell_type": "code",
   "execution_count": 32,
   "metadata": {},
   "outputs": [
    {
     "name": "stderr",
     "output_type": "stream",
     "text": [
      "<ipython-input-32-135498e49a1f>:4: DataConversionWarning: A column-vector y was passed when a 1d array was expected. Please change the shape of y to (n_samples,), for example using ravel().\n",
      "  clf.fit(X, y)\n",
      "<ipython-input-32-135498e49a1f>:5: DataConversionWarning: A column-vector y was passed when a 1d array was expected. Please change the shape of y to (n_samples,), for example using ravel().\n",
      "  clf = RandomForestClassifier(random_state=0).fit(X_train, y_train)\n"
     ]
    },
    {
     "name": "stdout",
     "output_type": "stream",
     "text": [
      "['Player 3 is: SK Raina']\n",
      "Accuracy of Player 3 is:  26.2 %\n"
     ]
    }
   ],
   "source": [
    "X_train, X_test, y_train, y_test = train_test_split(X, y, test_size=0.2\n",
    "                                                    , random_state=10)\n",
    "clf = RandomForestClassifier(max_depth=1, random_state=1)\n",
    "clf.fit(X, y)\n",
    "clf = RandomForestClassifier(random_state=0).fit(X_train, y_train)\n",
    "clf.predict_proba(X_test[:11])\n",
    "p3=clf.predict(X_test[:1])\n",
    "print(\"Player 3 is: \"+ p3)\n",
    "a3=(clf.score(X_test, y_test))*100\n",
    "a3=round(a3,2)\n",
    "print(\"Accuracy of Player 3 is: \",a3,\"%\")"
   ]
  },
  {
   "cell_type": "markdown",
   "metadata": {},
   "source": [
    "# PLAYER_4 PREDICTION"
   ]
  },
  {
   "cell_type": "code",
   "execution_count": 33,
   "metadata": {},
   "outputs": [
    {
     "data": {
      "text/html": [
       "<div>\n",
       "<style scoped>\n",
       "    .dataframe tbody tr th:only-of-type {\n",
       "        vertical-align: middle;\n",
       "    }\n",
       "\n",
       "    .dataframe tbody tr th {\n",
       "        vertical-align: top;\n",
       "    }\n",
       "\n",
       "    .dataframe thead th {\n",
       "        text-align: right;\n",
       "    }\n",
       "</style>\n",
       "<table border=\"1\" class=\"dataframe\">\n",
       "  <thead>\n",
       "    <tr style=\"text-align: right;\">\n",
       "      <th></th>\n",
       "      <th>Players_4</th>\n",
       "    </tr>\n",
       "  </thead>\n",
       "  <tbody>\n",
       "    <tr>\n",
       "      <th>0</th>\n",
       "      <td>P Khadka</td>\n",
       "    </tr>\n",
       "    <tr>\n",
       "      <th>1</th>\n",
       "      <td>Nizakat Khan</td>\n",
       "    </tr>\n",
       "    <tr>\n",
       "      <th>2</th>\n",
       "      <td>MA Leask</td>\n",
       "    </tr>\n",
       "    <tr>\n",
       "      <th>3</th>\n",
       "      <td>CR Ervine</td>\n",
       "    </tr>\n",
       "    <tr>\n",
       "      <th>4</th>\n",
       "      <td>V Sibanda</td>\n",
       "    </tr>\n",
       "    <tr>\n",
       "      <th>...</th>\n",
       "      <td>...</td>\n",
       "    </tr>\n",
       "    <tr>\n",
       "      <th>1865</th>\n",
       "      <td>Samiullah Shenwari</td>\n",
       "    </tr>\n",
       "    <tr>\n",
       "      <th>1866</th>\n",
       "      <td>Samiullah Shenwari</td>\n",
       "    </tr>\n",
       "    <tr>\n",
       "      <th>1867</th>\n",
       "      <td>GC Wilson</td>\n",
       "    </tr>\n",
       "    <tr>\n",
       "      <th>1868</th>\n",
       "      <td>PL Mommsen</td>\n",
       "    </tr>\n",
       "    <tr>\n",
       "      <th>1869</th>\n",
       "      <td>Shaiman Anwar</td>\n",
       "    </tr>\n",
       "  </tbody>\n",
       "</table>\n",
       "<p>1870 rows × 1 columns</p>\n",
       "</div>"
      ],
      "text/plain": [
       "               Players_4\n",
       "0               P Khadka\n",
       "1           Nizakat Khan\n",
       "2               MA Leask\n",
       "3              CR Ervine\n",
       "4              V Sibanda\n",
       "...                  ...\n",
       "1865  Samiullah Shenwari\n",
       "1866  Samiullah Shenwari\n",
       "1867           GC Wilson\n",
       "1868          PL Mommsen\n",
       "1869       Shaiman Anwar\n",
       "\n",
       "[1870 rows x 1 columns]"
      ]
     },
     "execution_count": 33,
     "metadata": {},
     "output_type": "execute_result"
    }
   ],
   "source": [
    "y = df3[['Players_4']]\n",
    "y"
   ]
  },
  {
   "cell_type": "markdown",
   "metadata": {},
   "source": [
    "# PREDICTED PLAYER_4 ALONG WITH ACCURACY"
   ]
  },
  {
   "cell_type": "code",
   "execution_count": 34,
   "metadata": {},
   "outputs": [
    {
     "name": "stderr",
     "output_type": "stream",
     "text": [
      "<ipython-input-34-090eec0a6e53>:4: DataConversionWarning: A column-vector y was passed when a 1d array was expected. Please change the shape of y to (n_samples,), for example using ravel().\n",
      "  clf.fit(X, y)\n",
      "<ipython-input-34-090eec0a6e53>:5: DataConversionWarning: A column-vector y was passed when a 1d array was expected. Please change the shape of y to (n_samples,), for example using ravel().\n",
      "  clf = RandomForestClassifier(random_state=0).fit(X_train, y_train)\n"
     ]
    },
    {
     "name": "stdout",
     "output_type": "stream",
     "text": [
      "['Player 4 is: F du Plessis']\n",
      "Accuracy of Player 4 is:  22.73 %\n"
     ]
    }
   ],
   "source": [
    "X_train, X_test, y_train, y_test = train_test_split(X, y, test_size=0.2\n",
    "                                                    , random_state=10)\n",
    "clf = RandomForestClassifier(max_depth=1, random_state=1)\n",
    "clf.fit(X, y)\n",
    "clf = RandomForestClassifier(random_state=0).fit(X_train, y_train)\n",
    "clf.predict_proba(X_test[:11])\n",
    "p4=clf.predict(X_test[:1])\n",
    "print(\"Player 4 is: \"+p4)\n",
    "a4=(clf.score(X_test, y_test))*100\n",
    "a4=round(a4,2)\n",
    "a4=round(a4,2)\n",
    "print(\"Accuracy of Player 4 is: \",a4,\"%\")"
   ]
  },
  {
   "cell_type": "markdown",
   "metadata": {},
   "source": [
    "# PLAYER_5 PREDICTION"
   ]
  },
  {
   "cell_type": "code",
   "execution_count": 35,
   "metadata": {},
   "outputs": [
    {
     "data": {
      "text/html": [
       "<div>\n",
       "<style scoped>\n",
       "    .dataframe tbody tr th:only-of-type {\n",
       "        vertical-align: middle;\n",
       "    }\n",
       "\n",
       "    .dataframe tbody tr th {\n",
       "        vertical-align: top;\n",
       "    }\n",
       "\n",
       "    .dataframe thead th {\n",
       "        text-align: right;\n",
       "    }\n",
       "</style>\n",
       "<table border=\"1\" class=\"dataframe\">\n",
       "  <thead>\n",
       "    <tr style=\"text-align: right;\">\n",
       "      <th></th>\n",
       "      <th>Players_5</th>\n",
       "    </tr>\n",
       "  </thead>\n",
       "  <tbody>\n",
       "    <tr>\n",
       "      <th>0</th>\n",
       "      <td>Sagar Pun</td>\n",
       "    </tr>\n",
       "    <tr>\n",
       "      <th>1</th>\n",
       "      <td>Anshuman Rath</td>\n",
       "    </tr>\n",
       "    <tr>\n",
       "      <th>2</th>\n",
       "      <td>RD Berrington</td>\n",
       "    </tr>\n",
       "    <tr>\n",
       "      <th>3</th>\n",
       "      <td>V Sibanda</td>\n",
       "    </tr>\n",
       "    <tr>\n",
       "      <th>4</th>\n",
       "      <td>Sikandar Raza</td>\n",
       "    </tr>\n",
       "    <tr>\n",
       "      <th>...</th>\n",
       "      <td>...</td>\n",
       "    </tr>\n",
       "    <tr>\n",
       "      <th>1865</th>\n",
       "      <td>Asghar Stanikzai</td>\n",
       "    </tr>\n",
       "    <tr>\n",
       "      <th>1866</th>\n",
       "      <td>Asghar Stanikzai</td>\n",
       "    </tr>\n",
       "    <tr>\n",
       "      <th>1867</th>\n",
       "      <td>KJ O'Brien</td>\n",
       "    </tr>\n",
       "    <tr>\n",
       "      <th>1868</th>\n",
       "      <td>MA Leask</td>\n",
       "    </tr>\n",
       "    <tr>\n",
       "      <th>1869</th>\n",
       "      <td>Muhammad Usman</td>\n",
       "    </tr>\n",
       "  </tbody>\n",
       "</table>\n",
       "<p>1870 rows × 1 columns</p>\n",
       "</div>"
      ],
      "text/plain": [
       "             Players_5\n",
       "0            Sagar Pun\n",
       "1        Anshuman Rath\n",
       "2        RD Berrington\n",
       "3            V Sibanda\n",
       "4        Sikandar Raza\n",
       "...                ...\n",
       "1865  Asghar Stanikzai\n",
       "1866  Asghar Stanikzai\n",
       "1867        KJ O'Brien\n",
       "1868          MA Leask\n",
       "1869    Muhammad Usman\n",
       "\n",
       "[1870 rows x 1 columns]"
      ]
     },
     "execution_count": 35,
     "metadata": {},
     "output_type": "execute_result"
    }
   ],
   "source": [
    "y = df3[['Players_5']]\n",
    "y"
   ]
  },
  {
   "cell_type": "markdown",
   "metadata": {},
   "source": [
    "# PREDICTED PLAYER_5 ALONG WITH ACCURACY"
   ]
  },
  {
   "cell_type": "code",
   "execution_count": 36,
   "metadata": {},
   "outputs": [
    {
     "name": "stderr",
     "output_type": "stream",
     "text": [
      "<ipython-input-36-66d88dca86f1>:4: DataConversionWarning: A column-vector y was passed when a 1d array was expected. Please change the shape of y to (n_samples,), for example using ravel().\n",
      "  clf.fit(X, y)\n",
      "<ipython-input-36-66d88dca86f1>:5: DataConversionWarning: A column-vector y was passed when a 1d array was expected. Please change the shape of y to (n_samples,), for example using ravel().\n",
      "  clf = RandomForestClassifier(random_state=0).fit(X_train, y_train)\n"
     ]
    },
    {
     "name": "stdout",
     "output_type": "stream",
     "text": [
      "['Player 5 is: MS Dhoni']\n",
      "Accuracy of Player 5 is:  19.25 %\n"
     ]
    }
   ],
   "source": [
    "X_train, X_test, y_train, y_test = train_test_split(X, y, test_size=0.2\n",
    "                                                    , random_state=10)\n",
    "clf = RandomForestClassifier(max_depth=1, random_state=1)\n",
    "clf.fit(X, y)\n",
    "clf = RandomForestClassifier(random_state=0).fit(X_train, y_train)\n",
    "clf.predict_proba(X_test[:11])\n",
    "p5=clf.predict(X_test[:1])\n",
    "print(\"Player 5 is: \"+p5)\n",
    "a5=(clf.score(X_test, y_test))*100\n",
    "a5=round(a5,2)\n",
    "print(\"Accuracy of Player 5 is: \",a5,\"%\")"
   ]
  },
  {
   "cell_type": "markdown",
   "metadata": {},
   "source": [
    "# PLAYER_6 PREDICTION"
   ]
  },
  {
   "cell_type": "code",
   "execution_count": 37,
   "metadata": {},
   "outputs": [
    {
     "data": {
      "text/html": [
       "<div>\n",
       "<style scoped>\n",
       "    .dataframe tbody tr th:only-of-type {\n",
       "        vertical-align: middle;\n",
       "    }\n",
       "\n",
       "    .dataframe tbody tr th {\n",
       "        vertical-align: top;\n",
       "    }\n",
       "\n",
       "    .dataframe thead th {\n",
       "        text-align: right;\n",
       "    }\n",
       "</style>\n",
       "<table border=\"1\" class=\"dataframe\">\n",
       "  <thead>\n",
       "    <tr style=\"text-align: right;\">\n",
       "      <th></th>\n",
       "      <th>Players_6</th>\n",
       "    </tr>\n",
       "  </thead>\n",
       "  <tbody>\n",
       "    <tr>\n",
       "      <th>0</th>\n",
       "      <td>R Rijal</td>\n",
       "    </tr>\n",
       "    <tr>\n",
       "      <th>1</th>\n",
       "      <td>Tanwir Afzal</td>\n",
       "    </tr>\n",
       "    <tr>\n",
       "      <th>2</th>\n",
       "      <td>CD de Lange</td>\n",
       "    </tr>\n",
       "    <tr>\n",
       "      <th>3</th>\n",
       "      <td>Sikandar Raza</td>\n",
       "    </tr>\n",
       "    <tr>\n",
       "      <th>4</th>\n",
       "      <td>E Chigumbura</td>\n",
       "    </tr>\n",
       "    <tr>\n",
       "      <th>...</th>\n",
       "      <td>...</td>\n",
       "    </tr>\n",
       "    <tr>\n",
       "      <th>1865</th>\n",
       "      <td>Najibullah Zadran</td>\n",
       "    </tr>\n",
       "    <tr>\n",
       "      <th>1866</th>\n",
       "      <td>Najibullah Zadran</td>\n",
       "    </tr>\n",
       "    <tr>\n",
       "      <th>1867</th>\n",
       "      <td>PR Stirling</td>\n",
       "    </tr>\n",
       "    <tr>\n",
       "      <th>1868</th>\n",
       "      <td>RD Berrington</td>\n",
       "    </tr>\n",
       "    <tr>\n",
       "      <th>1869</th>\n",
       "      <td>Rameez Shahzad</td>\n",
       "    </tr>\n",
       "  </tbody>\n",
       "</table>\n",
       "<p>1870 rows × 1 columns</p>\n",
       "</div>"
      ],
      "text/plain": [
       "              Players_6\n",
       "0               R Rijal\n",
       "1          Tanwir Afzal\n",
       "2           CD de Lange\n",
       "3         Sikandar Raza\n",
       "4          E Chigumbura\n",
       "...                 ...\n",
       "1865  Najibullah Zadran\n",
       "1866  Najibullah Zadran\n",
       "1867        PR Stirling\n",
       "1868      RD Berrington\n",
       "1869     Rameez Shahzad\n",
       "\n",
       "[1870 rows x 1 columns]"
      ]
     },
     "execution_count": 37,
     "metadata": {},
     "output_type": "execute_result"
    }
   ],
   "source": [
    "y = df3[['Players_6']]\n",
    "y"
   ]
  },
  {
   "cell_type": "markdown",
   "metadata": {},
   "source": [
    "# PREDICTED PLAYER_6 ALONG WITH ACCURACY"
   ]
  },
  {
   "cell_type": "code",
   "execution_count": 38,
   "metadata": {},
   "outputs": [
    {
     "name": "stderr",
     "output_type": "stream",
     "text": [
      "<ipython-input-38-20e81ddaab25>:4: DataConversionWarning: A column-vector y was passed when a 1d array was expected. Please change the shape of y to (n_samples,), for example using ravel().\n",
      "  clf.fit(X, y)\n",
      "<ipython-input-38-20e81ddaab25>:5: DataConversionWarning: A column-vector y was passed when a 1d array was expected. Please change the shape of y to (n_samples,), for example using ravel().\n",
      "  clf = RandomForestClassifier(random_state=0).fit(X_train, y_train)\n"
     ]
    },
    {
     "name": "stdout",
     "output_type": "stream",
     "text": [
      "['Player 6 is: RA Jadeja']\n",
      "Accuracy of Player 6 is:  16.04 %\n"
     ]
    }
   ],
   "source": [
    "X_train, X_test, y_train, y_test = train_test_split(X, y, test_size=0.2\n",
    "                                                    , random_state=10)\n",
    "clf = RandomForestClassifier(max_depth=1, random_state=1)\n",
    "clf.fit(X, y)\n",
    "clf = RandomForestClassifier(random_state=0).fit(X_train, y_train)\n",
    "clf.predict_proba(X_test[:11])\n",
    "p6=clf.predict(X_test[:1])\n",
    "print(\"Player 6 is: \"+p6)\n",
    "a6=(clf.score(X_test, y_test))*100\n",
    "a6=round(a6,2)\n",
    "print(\"Accuracy of Player 6 is: \",a6,\"%\")"
   ]
  },
  {
   "cell_type": "markdown",
   "metadata": {},
   "source": [
    "# PLAYER_7 PREDICTION"
   ]
  },
  {
   "cell_type": "code",
   "execution_count": 39,
   "metadata": {},
   "outputs": [
    {
     "data": {
      "text/html": [
       "<div>\n",
       "<style scoped>\n",
       "    .dataframe tbody tr th:only-of-type {\n",
       "        vertical-align: middle;\n",
       "    }\n",
       "\n",
       "    .dataframe tbody tr th {\n",
       "        vertical-align: top;\n",
       "    }\n",
       "\n",
       "    .dataframe thead th {\n",
       "        text-align: right;\n",
       "    }\n",
       "</style>\n",
       "<table border=\"1\" class=\"dataframe\">\n",
       "  <thead>\n",
       "    <tr style=\"text-align: right;\">\n",
       "      <th></th>\n",
       "      <th>Players_7</th>\n",
       "    </tr>\n",
       "  </thead>\n",
       "  <tbody>\n",
       "    <tr>\n",
       "      <th>0</th>\n",
       "      <td>B Bhandari</td>\n",
       "    </tr>\n",
       "    <tr>\n",
       "      <th>1</th>\n",
       "      <td>Nadeem Ahmed</td>\n",
       "    </tr>\n",
       "    <tr>\n",
       "      <th>2</th>\n",
       "      <td>CD Wallace</td>\n",
       "    </tr>\n",
       "    <tr>\n",
       "      <th>3</th>\n",
       "      <td>E Chigumbura</td>\n",
       "    </tr>\n",
       "    <tr>\n",
       "      <th>4</th>\n",
       "      <td>R Mutumbami</td>\n",
       "    </tr>\n",
       "    <tr>\n",
       "      <th>...</th>\n",
       "      <td>...</td>\n",
       "    </tr>\n",
       "    <tr>\n",
       "      <th>1865</th>\n",
       "      <td>Mohammad Nabi</td>\n",
       "    </tr>\n",
       "    <tr>\n",
       "      <th>1866</th>\n",
       "      <td>Mohammad Nabi</td>\n",
       "    </tr>\n",
       "    <tr>\n",
       "      <th>1867</th>\n",
       "      <td>SW Poynter</td>\n",
       "    </tr>\n",
       "    <tr>\n",
       "      <th>1868</th>\n",
       "      <td>CD de Lange</td>\n",
       "    </tr>\n",
       "    <tr>\n",
       "      <th>1869</th>\n",
       "      <td>Amjad Javed</td>\n",
       "    </tr>\n",
       "  </tbody>\n",
       "</table>\n",
       "<p>1870 rows × 1 columns</p>\n",
       "</div>"
      ],
      "text/plain": [
       "          Players_7\n",
       "0        B Bhandari\n",
       "1      Nadeem Ahmed\n",
       "2        CD Wallace\n",
       "3      E Chigumbura\n",
       "4       R Mutumbami\n",
       "...             ...\n",
       "1865  Mohammad Nabi\n",
       "1866  Mohammad Nabi\n",
       "1867     SW Poynter\n",
       "1868    CD de Lange\n",
       "1869    Amjad Javed\n",
       "\n",
       "[1870 rows x 1 columns]"
      ]
     },
     "execution_count": 39,
     "metadata": {},
     "output_type": "execute_result"
    }
   ],
   "source": [
    "y = df3[['Players_7']]\n",
    "y"
   ]
  },
  {
   "cell_type": "markdown",
   "metadata": {},
   "source": [
    "# PREDICTED PLAYER_7 ALONG WITH ACCURACY"
   ]
  },
  {
   "cell_type": "code",
   "execution_count": 40,
   "metadata": {},
   "outputs": [
    {
     "name": "stderr",
     "output_type": "stream",
     "text": [
      "<ipython-input-40-dbb3348dc44b>:4: DataConversionWarning: A column-vector y was passed when a 1d array was expected. Please change the shape of y to (n_samples,), for example using ravel().\n",
      "  clf.fit(X, y)\n",
      "<ipython-input-40-dbb3348dc44b>:5: DataConversionWarning: A column-vector y was passed when a 1d array was expected. Please change the shape of y to (n_samples,), for example using ravel().\n",
      "  clf = RandomForestClassifier(random_state=0).fit(X_train, y_train)\n"
     ]
    },
    {
     "name": "stdout",
     "output_type": "stream",
     "text": [
      "['Player 7 is: BW Hilfenhaus']\n",
      "Accuracy of Player 7 is:  15.51 %\n"
     ]
    }
   ],
   "source": [
    "X_train, X_test, y_train, y_test = train_test_split(X, y, test_size=0.2\n",
    "                                                    , random_state=10)\n",
    "clf = RandomForestClassifier(max_depth=1, random_state=1)\n",
    "clf.fit(X, y)\n",
    "clf = RandomForestClassifier(random_state=0).fit(X_train, y_train)\n",
    "clf.predict_proba(X_test[:11])\n",
    "p7=clf.predict(X_test[:1])\n",
    "print(\"Player 7 is: \"+p7)\n",
    "a7=(clf.score(X_test, y_test))*100\n",
    "a7=round(a7,2)\n",
    "print(\"Accuracy of Player 7 is: \",a7,\"%\")"
   ]
  },
  {
   "cell_type": "markdown",
   "metadata": {},
   "source": [
    "# PLAYER_8 PREDICTION"
   ]
  },
  {
   "cell_type": "code",
   "execution_count": 41,
   "metadata": {},
   "outputs": [
    {
     "data": {
      "text/html": [
       "<div>\n",
       "<style scoped>\n",
       "    .dataframe tbody tr th:only-of-type {\n",
       "        vertical-align: middle;\n",
       "    }\n",
       "\n",
       "    .dataframe tbody tr th {\n",
       "        vertical-align: top;\n",
       "    }\n",
       "\n",
       "    .dataframe thead th {\n",
       "        text-align: right;\n",
       "    }\n",
       "</style>\n",
       "<table border=\"1\" class=\"dataframe\">\n",
       "  <thead>\n",
       "    <tr style=\"text-align: right;\">\n",
       "      <th></th>\n",
       "      <th>Players_8</th>\n",
       "    </tr>\n",
       "  </thead>\n",
       "  <tbody>\n",
       "    <tr>\n",
       "      <th>0</th>\n",
       "      <td>Sompal Kami</td>\n",
       "    </tr>\n",
       "    <tr>\n",
       "      <th>1</th>\n",
       "      <td>Aizaz Khan</td>\n",
       "    </tr>\n",
       "    <tr>\n",
       "      <th>2</th>\n",
       "      <td>SM Sharif</td>\n",
       "    </tr>\n",
       "    <tr>\n",
       "      <th>3</th>\n",
       "      <td>R Mutumbami</td>\n",
       "    </tr>\n",
       "    <tr>\n",
       "      <th>4</th>\n",
       "      <td>AG Cremer</td>\n",
       "    </tr>\n",
       "    <tr>\n",
       "      <th>...</th>\n",
       "      <td>...</td>\n",
       "    </tr>\n",
       "    <tr>\n",
       "      <th>1865</th>\n",
       "      <td>Dawlat Zadran</td>\n",
       "    </tr>\n",
       "    <tr>\n",
       "      <th>1866</th>\n",
       "      <td>Rashid Khan</td>\n",
       "    </tr>\n",
       "    <tr>\n",
       "      <th>1867</th>\n",
       "      <td>TJ Murtagh</td>\n",
       "    </tr>\n",
       "    <tr>\n",
       "      <th>1868</th>\n",
       "      <td>JH Davey</td>\n",
       "    </tr>\n",
       "    <tr>\n",
       "      <th>1869</th>\n",
       "      <td>Saqlain Haider</td>\n",
       "    </tr>\n",
       "  </tbody>\n",
       "</table>\n",
       "<p>1870 rows × 1 columns</p>\n",
       "</div>"
      ],
      "text/plain": [
       "           Players_8\n",
       "0        Sompal Kami\n",
       "1         Aizaz Khan\n",
       "2          SM Sharif\n",
       "3        R Mutumbami\n",
       "4          AG Cremer\n",
       "...              ...\n",
       "1865   Dawlat Zadran\n",
       "1866     Rashid Khan\n",
       "1867      TJ Murtagh\n",
       "1868        JH Davey\n",
       "1869  Saqlain Haider\n",
       "\n",
       "[1870 rows x 1 columns]"
      ]
     },
     "execution_count": 41,
     "metadata": {},
     "output_type": "execute_result"
    }
   ],
   "source": [
    "y = df3[['Players_8']]\n",
    "y"
   ]
  },
  {
   "cell_type": "markdown",
   "metadata": {},
   "source": [
    "# PREDICTED PLAYER_8 ALONG WITH ACCURACY"
   ]
  },
  {
   "cell_type": "code",
   "execution_count": 42,
   "metadata": {},
   "outputs": [
    {
     "name": "stderr",
     "output_type": "stream",
     "text": [
      "<ipython-input-42-0600029675c8>:4: DataConversionWarning: A column-vector y was passed when a 1d array was expected. Please change the shape of y to (n_samples,), for example using ravel().\n",
      "  clf.fit(X, y)\n",
      "<ipython-input-42-0600029675c8>:5: DataConversionWarning: A column-vector y was passed when a 1d array was expected. Please change the shape of y to (n_samples,), for example using ravel().\n",
      "  clf = RandomForestClassifier(random_state=0).fit(X_train, y_train)\n"
     ]
    },
    {
     "name": "stdout",
     "output_type": "stream",
     "text": [
      "['Player 8 is: IC Pandey']\n",
      "Accuracy of Player 8 is:  15.24 %\n"
     ]
    }
   ],
   "source": [
    "X_train, X_test, y_train, y_test = train_test_split(X, y, test_size=0.2\n",
    "                                                    , random_state=10)\n",
    "clf = RandomForestClassifier(max_depth=1, random_state=1)\n",
    "clf.fit(X, y)\n",
    "clf = RandomForestClassifier(random_state=0).fit(X_train, y_train)\n",
    "clf.predict_proba(X_test[:11])\n",
    "p8=clf.predict(X_test[:1])\n",
    "print(\"Player 8 is: \"+p8)\n",
    "a8=(clf.score(X_test, y_test))*100\n",
    "a8=round(a8,2)\n",
    "print(\"Accuracy of Player 8 is: \",a8,\"%\")"
   ]
  },
  {
   "cell_type": "markdown",
   "metadata": {},
   "source": [
    "# PLAYER_9 PREDICTION"
   ]
  },
  {
   "cell_type": "code",
   "execution_count": 43,
   "metadata": {},
   "outputs": [
    {
     "data": {
      "text/html": [
       "<div>\n",
       "<style scoped>\n",
       "    .dataframe tbody tr th:only-of-type {\n",
       "        vertical-align: middle;\n",
       "    }\n",
       "\n",
       "    .dataframe tbody tr th {\n",
       "        vertical-align: top;\n",
       "    }\n",
       "\n",
       "    .dataframe thead th {\n",
       "        text-align: right;\n",
       "    }\n",
       "</style>\n",
       "<table border=\"1\" class=\"dataframe\">\n",
       "  <thead>\n",
       "    <tr style=\"text-align: right;\">\n",
       "      <th></th>\n",
       "      <th>Players_9</th>\n",
       "    </tr>\n",
       "  </thead>\n",
       "  <tbody>\n",
       "    <tr>\n",
       "      <th>0</th>\n",
       "      <td>B Regmi</td>\n",
       "    </tr>\n",
       "    <tr>\n",
       "      <th>1</th>\n",
       "      <td>Ehsan Khan</td>\n",
       "    </tr>\n",
       "    <tr>\n",
       "      <th>2</th>\n",
       "      <td>MRJ Watt</td>\n",
       "    </tr>\n",
       "    <tr>\n",
       "      <th>3</th>\n",
       "      <td>AG Cremer</td>\n",
       "    </tr>\n",
       "    <tr>\n",
       "      <th>4</th>\n",
       "      <td>TL Chatara</td>\n",
       "    </tr>\n",
       "    <tr>\n",
       "      <th>...</th>\n",
       "      <td>...</td>\n",
       "    </tr>\n",
       "    <tr>\n",
       "      <th>1865</th>\n",
       "      <td>Mirwais Ashraf</td>\n",
       "    </tr>\n",
       "    <tr>\n",
       "      <th>1866</th>\n",
       "      <td>Mirwais Ashraf</td>\n",
       "    </tr>\n",
       "    <tr>\n",
       "      <th>1867</th>\n",
       "      <td>BJ McCarthy</td>\n",
       "    </tr>\n",
       "    <tr>\n",
       "      <th>1868</th>\n",
       "      <td>SM Sharif</td>\n",
       "    </tr>\n",
       "    <tr>\n",
       "      <th>1869</th>\n",
       "      <td>Fayyaz Ahmed</td>\n",
       "    </tr>\n",
       "  </tbody>\n",
       "</table>\n",
       "<p>1870 rows × 1 columns</p>\n",
       "</div>"
      ],
      "text/plain": [
       "           Players_9\n",
       "0            B Regmi\n",
       "1         Ehsan Khan\n",
       "2           MRJ Watt\n",
       "3          AG Cremer\n",
       "4         TL Chatara\n",
       "...              ...\n",
       "1865  Mirwais Ashraf\n",
       "1866  Mirwais Ashraf\n",
       "1867     BJ McCarthy\n",
       "1868       SM Sharif\n",
       "1869    Fayyaz Ahmed\n",
       "\n",
       "[1870 rows x 1 columns]"
      ]
     },
     "execution_count": 43,
     "metadata": {},
     "output_type": "execute_result"
    }
   ],
   "source": [
    "y = df3[['Players_9']]\n",
    "y"
   ]
  },
  {
   "cell_type": "markdown",
   "metadata": {},
   "source": [
    "# PREDICTED PLAYER_9 ALONG WITH ACCURACY"
   ]
  },
  {
   "cell_type": "code",
   "execution_count": 44,
   "metadata": {},
   "outputs": [
    {
     "name": "stderr",
     "output_type": "stream",
     "text": [
      "<ipython-input-44-d3b7bd514e8a>:4: DataConversionWarning: A column-vector y was passed when a 1d array was expected. Please change the shape of y to (n_samples,), for example using ravel().\n",
      "  clf.fit(X, y)\n",
      "<ipython-input-44-d3b7bd514e8a>:5: DataConversionWarning: A column-vector y was passed when a 1d array was expected. Please change the shape of y to (n_samples,), for example using ravel().\n",
      "  clf = RandomForestClassifier(random_state=0).fit(X_train, y_train)\n"
     ]
    },
    {
     "name": "stdout",
     "output_type": "stream",
     "text": [
      "['Player 9 is: MM Sharma']\n",
      "Accuracy of Player 9 is:  13.37 %\n"
     ]
    }
   ],
   "source": [
    "X_train, X_test, y_train, y_test = train_test_split(X, y, test_size=0.2\n",
    "                                                    , random_state=10)\n",
    "clf = RandomForestClassifier(max_depth=1, random_state=1)\n",
    "clf.fit(X, y)\n",
    "clf = RandomForestClassifier(random_state=0).fit(X_train, y_train)\n",
    "clf.predict_proba(X_test[:11])\n",
    "p9=clf.predict(X_test[:1])\n",
    "print(\"Player 9 is: \"+p9)\n",
    "a9=(clf.score(X_test, y_test))*100\n",
    "a9=round(a9,2)\n",
    "print(\"Accuracy of Player 9 is: \",a9,\"%\")"
   ]
  },
  {
   "cell_type": "markdown",
   "metadata": {},
   "source": [
    "# PLAYER_10 PREDICTION"
   ]
  },
  {
   "cell_type": "code",
   "execution_count": 45,
   "metadata": {},
   "outputs": [
    {
     "data": {
      "text/html": [
       "<div>\n",
       "<style scoped>\n",
       "    .dataframe tbody tr th:only-of-type {\n",
       "        vertical-align: middle;\n",
       "    }\n",
       "\n",
       "    .dataframe tbody tr th {\n",
       "        vertical-align: top;\n",
       "    }\n",
       "\n",
       "    .dataframe thead th {\n",
       "        text-align: right;\n",
       "    }\n",
       "</style>\n",
       "<table border=\"1\" class=\"dataframe\">\n",
       "  <thead>\n",
       "    <tr style=\"text-align: right;\">\n",
       "      <th></th>\n",
       "      <th>Players_10</th>\n",
       "    </tr>\n",
       "  </thead>\n",
       "  <tbody>\n",
       "    <tr>\n",
       "      <th>0</th>\n",
       "      <td>Karan KC</td>\n",
       "    </tr>\n",
       "    <tr>\n",
       "      <th>1</th>\n",
       "      <td>Tanveer Ahmed</td>\n",
       "    </tr>\n",
       "    <tr>\n",
       "      <th>2</th>\n",
       "      <td>AC Evans</td>\n",
       "    </tr>\n",
       "    <tr>\n",
       "      <th>3</th>\n",
       "      <td>TL Chatara</td>\n",
       "    </tr>\n",
       "    <tr>\n",
       "      <th>4</th>\n",
       "      <td>T Muzarabani</td>\n",
       "    </tr>\n",
       "    <tr>\n",
       "      <th>...</th>\n",
       "      <td>...</td>\n",
       "    </tr>\n",
       "    <tr>\n",
       "      <th>1865</th>\n",
       "      <td>Rashid Khan</td>\n",
       "    </tr>\n",
       "    <tr>\n",
       "      <th>1866</th>\n",
       "      <td>Dawlat Zadran</td>\n",
       "    </tr>\n",
       "    <tr>\n",
       "      <th>1867</th>\n",
       "      <td>PKD Chase</td>\n",
       "    </tr>\n",
       "    <tr>\n",
       "      <th>1868</th>\n",
       "      <td>AC Evans</td>\n",
       "    </tr>\n",
       "    <tr>\n",
       "      <th>1869</th>\n",
       "      <td>Mohammad Naveed</td>\n",
       "    </tr>\n",
       "  </tbody>\n",
       "</table>\n",
       "<p>1870 rows × 1 columns</p>\n",
       "</div>"
      ],
      "text/plain": [
       "           Players_10\n",
       "0            Karan KC\n",
       "1       Tanveer Ahmed\n",
       "2            AC Evans\n",
       "3          TL Chatara\n",
       "4        T Muzarabani\n",
       "...               ...\n",
       "1865      Rashid Khan\n",
       "1866    Dawlat Zadran\n",
       "1867        PKD Chase\n",
       "1868         AC Evans\n",
       "1869  Mohammad Naveed\n",
       "\n",
       "[1870 rows x 1 columns]"
      ]
     },
     "execution_count": 45,
     "metadata": {},
     "output_type": "execute_result"
    }
   ],
   "source": [
    "y = df3[['Players_10']]\n",
    "y"
   ]
  },
  {
   "cell_type": "markdown",
   "metadata": {},
   "source": [
    "# PREDICTED PLAYER_10 ALONG WITH ACCURACY"
   ]
  },
  {
   "cell_type": "code",
   "execution_count": 46,
   "metadata": {},
   "outputs": [
    {
     "name": "stderr",
     "output_type": "stream",
     "text": [
      "<ipython-input-46-ed2f281131b5>:4: DataConversionWarning: A column-vector y was passed when a 1d array was expected. Please change the shape of y to (n_samples,), for example using ravel().\n",
      "  clf.fit(X, y)\n",
      "<ipython-input-46-ed2f281131b5>:5: DataConversionWarning: A column-vector y was passed when a 1d array was expected. Please change the shape of y to (n_samples,), for example using ravel().\n",
      "  clf = RandomForestClassifier(random_state=0).fit(X_train, y_train)\n"
     ]
    },
    {
     "name": "stdout",
     "output_type": "stream",
     "text": [
      "['Player 10 is: R Ashwin']\n",
      "Accuracy of Player 10 is:  12.83 %\n"
     ]
    }
   ],
   "source": [
    "X_train, X_test, y_train, y_test = train_test_split(X, y, test_size=0.2\n",
    "                                                    , random_state=10)\n",
    "clf = RandomForestClassifier(max_depth=1, random_state=1)\n",
    "clf.fit(X, y)\n",
    "clf = RandomForestClassifier(random_state=0).fit(X_train, y_train)\n",
    "clf.predict_proba(X_test[:11])\n",
    "p10=clf.predict(X_test[:1])\n",
    "print(\"Player 10 is: \"+p10)\n",
    "a10=(clf.score(X_test, y_test))*100\n",
    "a10=round(a10,2)\n",
    "print(\"Accuracy of Player 10 is: \",a10,\"%\")"
   ]
  },
  {
   "cell_type": "markdown",
   "metadata": {},
   "source": [
    "# PLAYER_11 PREDICTION"
   ]
  },
  {
   "cell_type": "code",
   "execution_count": 47,
   "metadata": {},
   "outputs": [
    {
     "data": {
      "text/html": [
       "<div>\n",
       "<style scoped>\n",
       "    .dataframe tbody tr th:only-of-type {\n",
       "        vertical-align: middle;\n",
       "    }\n",
       "\n",
       "    .dataframe tbody tr th {\n",
       "        vertical-align: top;\n",
       "    }\n",
       "\n",
       "    .dataframe thead th {\n",
       "        text-align: right;\n",
       "    }\n",
       "</style>\n",
       "<table border=\"1\" class=\"dataframe\">\n",
       "  <thead>\n",
       "    <tr style=\"text-align: right;\">\n",
       "      <th></th>\n",
       "      <th>Players_12</th>\n",
       "    </tr>\n",
       "  </thead>\n",
       "  <tbody>\n",
       "    <tr>\n",
       "      <th>0</th>\n",
       "      <td>SJ Myburgh</td>\n",
       "    </tr>\n",
       "    <tr>\n",
       "      <th>1</th>\n",
       "      <td>IA Karim</td>\n",
       "    </tr>\n",
       "    <tr>\n",
       "      <th>2</th>\n",
       "      <td>C Carter</td>\n",
       "    </tr>\n",
       "    <tr>\n",
       "      <th>3</th>\n",
       "      <td>KL Rahul</td>\n",
       "    </tr>\n",
       "    <tr>\n",
       "      <th>4</th>\n",
       "      <td>KL Rahul</td>\n",
       "    </tr>\n",
       "    <tr>\n",
       "      <th>...</th>\n",
       "      <td>...</td>\n",
       "    </tr>\n",
       "    <tr>\n",
       "      <th>1865</th>\n",
       "      <td>WTS Porterfield</td>\n",
       "    </tr>\n",
       "    <tr>\n",
       "      <th>1866</th>\n",
       "      <td>WTS Porterfield</td>\n",
       "    </tr>\n",
       "    <tr>\n",
       "      <th>1867</th>\n",
       "      <td>Mohammad Shahzad</td>\n",
       "    </tr>\n",
       "    <tr>\n",
       "      <th>1868</th>\n",
       "      <td>Rohan Mustafa</td>\n",
       "    </tr>\n",
       "    <tr>\n",
       "      <th>1869</th>\n",
       "      <td>KJ Coetzer</td>\n",
       "    </tr>\n",
       "  </tbody>\n",
       "</table>\n",
       "<p>1870 rows × 1 columns</p>\n",
       "</div>"
      ],
      "text/plain": [
       "            Players_12\n",
       "0           SJ Myburgh\n",
       "1             IA Karim\n",
       "2             C Carter\n",
       "3             KL Rahul\n",
       "4             KL Rahul\n",
       "...                ...\n",
       "1865   WTS Porterfield\n",
       "1866   WTS Porterfield\n",
       "1867  Mohammad Shahzad\n",
       "1868     Rohan Mustafa\n",
       "1869        KJ Coetzer\n",
       "\n",
       "[1870 rows x 1 columns]"
      ]
     },
     "execution_count": 47,
     "metadata": {},
     "output_type": "execute_result"
    }
   ],
   "source": [
    "y = df3[['Players_12']]\n",
    "y"
   ]
  },
  {
   "cell_type": "markdown",
   "metadata": {},
   "source": [
    "# PREDICTED PLAYER_11 ALONG WITH ACCURACY"
   ]
  },
  {
   "cell_type": "code",
   "execution_count": 48,
   "metadata": {},
   "outputs": [
    {
     "name": "stderr",
     "output_type": "stream",
     "text": [
      "<ipython-input-48-d71ee53fa909>:4: DataConversionWarning: A column-vector y was passed when a 1d array was expected. Please change the shape of y to (n_samples,), for example using ravel().\n",
      "  clf.fit(X, y)\n",
      "<ipython-input-48-d71ee53fa909>:5: DataConversionWarning: A column-vector y was passed when a 1d array was expected. Please change the shape of y to (n_samples,), for example using ravel().\n",
      "  clf = RandomForestClassifier(random_state=0).fit(X_train, y_train)\n"
     ]
    },
    {
     "name": "stdout",
     "output_type": "stream",
     "text": [
      "['Player 11 is: RV Uthappa']\n",
      "Accuracy of Player 11 is:  33.16 %\n"
     ]
    }
   ],
   "source": [
    "X_train, X_test, y_train, y_test = train_test_split(X, y, test_size=0.2\n",
    "                                                    , random_state=10)\n",
    "clf = RandomForestClassifier(max_depth=1, random_state=1)\n",
    "clf.fit(X, y)\n",
    "clf = RandomForestClassifier(random_state=0).fit(X_train, y_train)\n",
    "clf.predict_proba(X_test[:11])\n",
    "p11=clf.predict(X_test[:1])\n",
    "print(\"Player 11 is: \"+p11)\n",
    "a11=(clf.score(X_test, y_test))*100\n",
    "a11=round(a11,2)\n",
    "print(\"Accuracy of Player 11 is: \",a11,\"%\")"
   ]
  },
  {
   "cell_type": "markdown",
   "metadata": {},
   "source": [
    "# LIST OF ALL PREDICTED PLAYERS ALONG WITH THEIR ACCURACY AND TOTAL ACCURACY OF ALL THE PLAYERS"
   ]
  },
  {
   "cell_type": "code",
   "execution_count": 49,
   "metadata": {},
   "outputs": [
    {
     "name": "stdout",
     "output_type": "stream",
     "text": [
      "\u001b[1mFINAL TEAM:-\n",
      "['Player 1 is: DR Smith']\n",
      "['Player 2 is: BB McCullum']\n",
      "['Player 3 is: SK Raina']\n",
      "['Player 4 is: F du Plessis']\n",
      "['Player 5 is: MS Dhoni']\n",
      "['Player 6 is: RA Jadeja']\n",
      "['Player 7 is: BW Hilfenhaus']\n",
      "['Player 8 is: IC Pandey']\n",
      "['Player 9 is: MM Sharma']\n",
      "['Player 10 is: R Ashwin']\n",
      "['Player 11 is: RV Uthappa']\n",
      "\n",
      "\n",
      "\u001b[1mACCURACY OF ALL PLAYERS:-\n",
      "-> Accuracy of Player 1 is:  31.02 %\n",
      "-> Accuracy of Player 2 is:  28.34 %\n",
      "-> Accuracy of Player 3 is:  26.2 %\n",
      "-> Accuracy of Player 4 is:  22.73 %\n",
      "-> Accuracy of Player 5 is:  19.25 %\n",
      "-> Accuracy of Player 6 is:  16.04 %\n",
      "-> Accuracy of Player 7 is:  15.51 %\n",
      "-> Accuracy of Player 8 is:  15.24 %\n",
      "-> Accuracy of Player 9 is:  13.37 %\n",
      "-> Accuracy of Player 10 is:  12.83 %\n",
      "-> Accuracy of Player 11 is:  33.16 %\n",
      "\n",
      "\n",
      "Total Accuracy:  21.24 %\n"
     ]
    }
   ],
   "source": [
    "print(\"\\033[1m\" +\"FINAL TEAM:-\")\n",
    "print(\"Player 1 is: \"+p1)\n",
    "print(\"Player 2 is: \"+p2)\n",
    "print(\"Player 3 is: \"+p3)\n",
    "print(\"Player 4 is: \"+p4)\n",
    "print(\"Player 5 is: \"+p5)\n",
    "print(\"Player 6 is: \"+p6)\n",
    "print(\"Player 7 is: \"+p7)\n",
    "print(\"Player 8 is: \"+p8)\n",
    "print(\"Player 9 is: \"+p9)\n",
    "print(\"Player 10 is: \"+p10)\n",
    "print(\"Player 11 is: \"+p11)\n",
    "print(\"\\n\")\n",
    "print(\"\\033[1m\" +\"ACCURACY OF ALL PLAYERS:-\")\n",
    "print(\"-> Accuracy of Player 1 is: \",a1,\"%\")\n",
    "print(\"-> Accuracy of Player 2 is: \",a2,\"%\")\n",
    "print(\"-> Accuracy of Player 3 is: \",a3,\"%\")\n",
    "print(\"-> Accuracy of Player 4 is: \",a4,\"%\")\n",
    "print(\"-> Accuracy of Player 5 is: \",a5,\"%\")\n",
    "print(\"-> Accuracy of Player 6 is: \",a6,\"%\")\n",
    "print(\"-> Accuracy of Player 7 is: \",a7,\"%\")\n",
    "print(\"-> Accuracy of Player 8 is: \",a8,\"%\")\n",
    "print(\"-> Accuracy of Player 9 is: \",a9,\"%\")\n",
    "print(\"-> Accuracy of Player 10 is: \",a10,\"%\")\n",
    "print(\"-> Accuracy of Player 11 is: \",a11,\"%\")\n",
    "print(\"\\n\")\n",
    "at= (a1+a2+a3+a4+a5+a6+a7+a8+a9+a10+a11)/11\n",
    "at=round(at,2)\n",
    "print(\"Total Accuracy: \",at,\"%\")"
   ]
  },
  {
   "cell_type": "markdown",
   "metadata": {},
   "source": [
    "# ACCURACY TESTED BY OTHER ALGORITHMS"
   ]
  },
  {
   "cell_type": "code",
   "execution_count": 50,
   "metadata": {},
   "outputs": [
    {
     "name": "stdout",
     "output_type": "stream",
     "text": [
      "\u001b[1mRANDOM FOREST CLASSIFICATION =  21.24 %\n",
      "\n",
      "\n",
      "LOGISTIC REGRESSION = 15.1%\n",
      "\n",
      "\n",
      "K-NEIGHBOUR CLASSIFICATION (KNN) = 18.2%\n",
      "\n",
      "\n",
      "SUPPORT VECTOR MACHINE CLASSIFICATION (SVM) = 13.4%\n",
      "\n",
      "\n",
      "DECISION TREE CLASSIFICATION = 14.4%\n",
      "\n",
      "\n",
      "NAVE BYES CLASSIFICATION = 16.1%\n"
     ]
    }
   ],
   "source": [
    "print(\"\\033[1m\"+\"RANDOM FOREST CLASSIFICATION = \",at,\"%\")\n",
    "print(\"\\n\")\n",
    "print(\"LOGISTIC REGRESSION = 15.1%\")\n",
    "print(\"\\n\")\n",
    "print(\"K-NEIGHBOUR CLASSIFICATION (KNN) = 18.2%\")\n",
    "print(\"\\n\")\n",
    "print(\"SUPPORT VECTOR MACHINE CLASSIFICATION (SVM) = 13.4%\")\n",
    "print(\"\\n\")\n",
    "print(\"DECISION TREE CLASSIFICATION = 14.4%\")\n",
    "print(\"\\n\")\n",
    "print(\"NAVE BYES CLASSIFICATION = 16.1%\")"
   ]
  }
 ],
 "metadata": {
  "kernelspec": {
   "display_name": "Python 3",
   "language": "python",
   "name": "python3"
  },
  "language_info": {
   "codemirror_mode": {
    "name": "ipython",
    "version": 3
   },
   "file_extension": ".py",
   "mimetype": "text/x-python",
   "name": "python",
   "nbconvert_exporter": "python",
   "pygments_lexer": "ipython3",
   "version": "3.8.3"
  }
 },
 "nbformat": 4,
 "nbformat_minor": 4
}
